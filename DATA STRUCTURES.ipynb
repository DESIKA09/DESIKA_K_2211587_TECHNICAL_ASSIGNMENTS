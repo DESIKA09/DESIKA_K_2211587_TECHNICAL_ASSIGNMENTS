{
 "cells": [
  {
   "cell_type": "markdown",
   "id": "0de4594f",
   "metadata": {},
   "source": [
    "# DATA STRUCTURES\n",
    "\n",
    "## LIST, SET, TUPLE, DICTIONARY"
   ]
  },
  {
   "cell_type": "markdown",
   "id": "737cad1a",
   "metadata": {},
   "source": [
    "**LIST**"
   ]
  },
  {
   "cell_type": "markdown",
   "id": "ea10b8d7",
   "metadata": {},
   "source": [
    "A list is collection of elements which are ordered and indexed\n",
    "\n",
    "We use squared brackets[] for list\n",
    "\n",
    "it is mutable\n"
   ]
  },
  {
   "cell_type": "code",
   "execution_count": 18,
   "id": "2e07100c",
   "metadata": {},
   "outputs": [
    {
     "name": "stdout",
     "output_type": "stream",
     "text": [
      "[1, 2, 3, 4, 5, 'desika', 'ball', 3.14, False]\n"
     ]
    }
   ],
   "source": [
    "list_1=[1,2,3,4,5,\"desika\",\"ball\",3.14, False]\n",
    "print(list_1)"
   ]
  },
  {
   "cell_type": "markdown",
   "id": "50cf8647",
   "metadata": {},
   "source": [
    "#indexing the elements in a list(In python the indexing start from 0)\n",
    "\n",
    "\n",
    "\n",
    "-9 -8  -7   -6   -5   -4     -3     -2     -1   # right indexing\n",
    "\n",
    "\n",
    "#If we want to extract the element \"desika\", the following code can be used\n"
   ]
  },
  {
   "cell_type": "code",
   "execution_count": 7,
   "id": "777e3dd7",
   "metadata": {},
   "outputs": [
    {
     "name": "stdout",
     "output_type": "stream",
     "text": [
      "2\n",
      "5\n"
     ]
    }
   ],
   "source": [
    "#0   1   2    3   4   5        6     7      8   (left indexing) \n",
    "\n",
    "#1   2   3    4   5  desika  ball  3.14  False\n",
    "\n",
    "print(list_1[1]) #left indexing\n",
    "print(list_1[4])"
   ]
  },
  {
   "cell_type": "code",
   "execution_count": 8,
   "id": "daae1ffc",
   "metadata": {},
   "outputs": [
    {
     "name": "stdout",
     "output_type": "stream",
     "text": [
      "False\n",
      "desika\n"
     ]
    }
   ],
   "source": [
    "#1   2   3    4   5  desika  ball   3.14   False   \n",
    "#-9 -8  -7   -6   -5   -4     -3     -2     -1   # right indexing\n",
    "print(list_1[-1]) \n",
    "print(list_1[-4])"
   ]
  },
  {
   "cell_type": "markdown",
   "id": "44f5d0c3",
   "metadata": {},
   "source": [
    "To know all the functions or attributes that can be performed using the given objects, we use directory i.e., dir()"
   ]
  },
  {
   "cell_type": "code",
   "execution_count": 9,
   "id": "4fe5b925",
   "metadata": {},
   "outputs": [
    {
     "data": {
      "text/plain": [
       "['__add__',\n",
       " '__class__',\n",
       " '__class_getitem__',\n",
       " '__contains__',\n",
       " '__delattr__',\n",
       " '__delitem__',\n",
       " '__dir__',\n",
       " '__doc__',\n",
       " '__eq__',\n",
       " '__format__',\n",
       " '__ge__',\n",
       " '__getattribute__',\n",
       " '__getitem__',\n",
       " '__gt__',\n",
       " '__hash__',\n",
       " '__iadd__',\n",
       " '__imul__',\n",
       " '__init__',\n",
       " '__init_subclass__',\n",
       " '__iter__',\n",
       " '__le__',\n",
       " '__len__',\n",
       " '__lt__',\n",
       " '__mul__',\n",
       " '__ne__',\n",
       " '__new__',\n",
       " '__reduce__',\n",
       " '__reduce_ex__',\n",
       " '__repr__',\n",
       " '__reversed__',\n",
       " '__rmul__',\n",
       " '__setattr__',\n",
       " '__setitem__',\n",
       " '__sizeof__',\n",
       " '__str__',\n",
       " '__subclasshook__',\n",
       " 'append',\n",
       " 'clear',\n",
       " 'copy',\n",
       " 'count',\n",
       " 'extend',\n",
       " 'index',\n",
       " 'insert',\n",
       " 'pop',\n",
       " 'remove',\n",
       " 'reverse',\n",
       " 'sort']"
      ]
     },
     "execution_count": 9,
     "metadata": {},
     "output_type": "execute_result"
    }
   ],
   "source": [
    "dir(list_1)"
   ]
  },
  {
   "cell_type": "markdown",
   "id": "c4fb1a3d",
   "metadata": {},
   "source": [
    "### Now let us perform some  of the attribute mentioned above for list."
   ]
  },
  {
   "cell_type": "markdown",
   "id": "8f9fb99c",
   "metadata": {},
   "source": [
    "**APPEND**\n",
    "\n",
    "*'append()'* is used to add elements into the existing list\n",
    "\n",
    "It add the elements in tha last position."
   ]
  },
  {
   "cell_type": "code",
   "execution_count": 20,
   "id": "a48abcb8",
   "metadata": {},
   "outputs": [],
   "source": [
    "list_1.append(\"sandhya\")\n"
   ]
  },
  {
   "cell_type": "code",
   "execution_count": 21,
   "id": "73be1fad",
   "metadata": {},
   "outputs": [
    {
     "data": {
      "text/plain": [
       "[1, 2, 3, 4, 5, 'desika', 'ball', 3.14, False, 'sandhya']"
      ]
     },
     "execution_count": 21,
     "metadata": {},
     "output_type": "execute_result"
    }
   ],
   "source": [
    "list_1 # The element sandhya added to the list_1 and it is assigned in the last position."
   ]
  },
  {
   "cell_type": "markdown",
   "id": "18a5afe4",
   "metadata": {},
   "source": [
    "But if we want to add an element win a specified position, we use insert()"
   ]
  },
  {
   "cell_type": "markdown",
   "id": "c9bc4a64",
   "metadata": {},
   "source": [
    "**INSERT**\n",
    "\n",
    "*'insert()'* is used to add elements into the existing list\n",
    "\n",
    "It add the elements in a **specified positions** where we want.\n",
    "\n",
    "*syntax*\n",
    "\n",
    "insert(p,e)\n",
    "\n",
    "p= position of the element\n",
    "\n",
    "e= element to be added"
   ]
  },
  {
   "cell_type": "code",
   "execution_count": 23,
   "id": "8d427331",
   "metadata": {},
   "outputs": [],
   "source": [
    "list_1.insert(3,\"HAPPY\") #inserting the element \"HAPPY\" in 3rd position"
   ]
  },
  {
   "cell_type": "code",
   "execution_count": 24,
   "id": "2c71216e",
   "metadata": {},
   "outputs": [
    {
     "data": {
      "text/plain": [
       "[1, 2, 3, 'HAPPY', 4, 5, 'desika', 'ball', 3.14, False, 'sandhya']"
      ]
     },
     "execution_count": 24,
     "metadata": {},
     "output_type": "execute_result"
    }
   ],
   "source": [
    "list_1"
   ]
  },
  {
   "cell_type": "markdown",
   "id": "0f8b6050",
   "metadata": {},
   "source": [
    "**EXTEND**\n",
    "\n",
    "*'extend()'* is used to add the elements of the list at the end of the current list\n"
   ]
  },
  {
   "cell_type": "code",
   "execution_count": 37,
   "id": "33094bd8",
   "metadata": {},
   "outputs": [
    {
     "data": {
      "text/plain": [
       "['apple', 'banana']"
      ]
     },
     "execution_count": 37,
     "metadata": {},
     "output_type": "execute_result"
    }
   ],
   "source": [
    "list_2=['apple','banana']\n",
    "list_2"
   ]
  },
  {
   "cell_type": "code",
   "execution_count": 38,
   "id": "22888794",
   "metadata": {},
   "outputs": [],
   "source": [
    "list_1.extend(list_2) #To add the list_2 to the current list as iterables i.e., unpacking the list_2 and adding the elements of list_ with list_1"
   ]
  },
  {
   "cell_type": "code",
   "execution_count": 40,
   "id": "e69dc2cb",
   "metadata": {},
   "outputs": [
    {
     "data": {
      "text/plain": [
       "[1,\n",
       " 2,\n",
       " 3,\n",
       " 'HAPPY',\n",
       " 4,\n",
       " 5,\n",
       " 'desika',\n",
       " 'ball',\n",
       " 3.14,\n",
       " False,\n",
       " 'sandhya',\n",
       " 'apple',\n",
       " 'banana']"
      ]
     },
     "execution_count": 40,
     "metadata": {},
     "output_type": "execute_result"
    }
   ],
   "source": [
    "list_1"
   ]
  },
  {
   "cell_type": "markdown",
   "id": "cc49694b",
   "metadata": {},
   "source": [
    "**Difference between append and extend**\n",
    "\n",
    "append is used to add the elements to the list. so, if we give a list to be added, it take it as a single element\n",
    "whereas extend add the each of the elements of the list as separate elements."
   ]
  },
  {
   "cell_type": "code",
   "execution_count": 41,
   "id": "2b1d3a37",
   "metadata": {},
   "outputs": [
    {
     "data": {
      "text/plain": [
       "[1,\n",
       " 2,\n",
       " 3,\n",
       " 'HAPPY',\n",
       " 4,\n",
       " 5,\n",
       " 'desika',\n",
       " 'ball',\n",
       " 3.14,\n",
       " False,\n",
       " 'sandhya',\n",
       " 'apple',\n",
       " 'banana']"
      ]
     },
     "execution_count": 41,
     "metadata": {},
     "output_type": "execute_result"
    }
   ],
   "source": [
    "list_1"
   ]
  },
  {
   "cell_type": "code",
   "execution_count": 42,
   "id": "36de6740",
   "metadata": {},
   "outputs": [
    {
     "name": "stdout",
     "output_type": "stream",
     "text": [
      "[1, 2, 3, 'HAPPY', 4, 5, 'desika', 'ball', 3.14, False, 'sandhya', 'apple', 'banana', ['A', 'B']]\n"
     ]
    }
   ],
   "source": [
    "list_1.append([\"A\",\"B\"])\n",
    "print(list_1)"
   ]
  },
  {
   "cell_type": "code",
   "execution_count": 44,
   "id": "f2a18bcc",
   "metadata": {},
   "outputs": [
    {
     "data": {
      "text/plain": [
       "['A', 'B']"
      ]
     },
     "execution_count": 44,
     "metadata": {},
     "output_type": "execute_result"
    }
   ],
   "source": [
    "list_1[-1]"
   ]
  },
  {
   "cell_type": "code",
   "execution_count": 45,
   "id": "e04f21f9",
   "metadata": {},
   "outputs": [
    {
     "name": "stdout",
     "output_type": "stream",
     "text": [
      "[1, 2, 3, 'HAPPY', 4, 5, 'desika', 'ball', 3.14, False, 'sandhya', 'apple', 'banana', ['A', 'B'], True, False]\n"
     ]
    }
   ],
   "source": [
    "list_1.extend([True,False])\n",
    "print(list_1)"
   ]
  },
  {
   "cell_type": "code",
   "execution_count": 46,
   "id": "950814af",
   "metadata": {},
   "outputs": [
    {
     "data": {
      "text/plain": [
       "False"
      ]
     },
     "execution_count": 46,
     "metadata": {},
     "output_type": "execute_result"
    }
   ],
   "source": [
    "list_1[-1]"
   ]
  },
  {
   "cell_type": "markdown",
   "id": "f4e7d494",
   "metadata": {},
   "source": [
    "#### Removing of elements"
   ]
  },
  {
   "cell_type": "code",
   "execution_count": 47,
   "id": "5a8f1129",
   "metadata": {},
   "outputs": [
    {
     "ename": "SyntaxError",
     "evalue": "invalid syntax (2246160654.py, line 1)",
     "output_type": "error",
     "traceback": [
      "\u001b[1;36m  Input \u001b[1;32mIn [47]\u001b[1;36m\u001b[0m\n\u001b[1;33m    **REMOVE**\u001b[0m\n\u001b[1;37m    ^\u001b[0m\n\u001b[1;31mSyntaxError\u001b[0m\u001b[1;31m:\u001b[0m invalid syntax\n"
     ]
    }
   ],
   "source": [
    "**REMOVE**"
   ]
  }
 ],
 "metadata": {
  "kernelspec": {
   "display_name": "Python 3 (ipykernel)",
   "language": "python",
   "name": "python3"
  },
  "language_info": {
   "codemirror_mode": {
    "name": "ipython",
    "version": 3
   },
   "file_extension": ".py",
   "mimetype": "text/x-python",
   "name": "python",
   "nbconvert_exporter": "python",
   "pygments_lexer": "ipython3",
   "version": "3.9.12"
  }
 },
 "nbformat": 4,
 "nbformat_minor": 5
}
