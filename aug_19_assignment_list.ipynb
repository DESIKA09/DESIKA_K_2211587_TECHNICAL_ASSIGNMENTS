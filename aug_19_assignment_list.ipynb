{
 "cells": [
  {
   "cell_type": "code",
   "execution_count": 10,
   "id": "ec740fd3",
   "metadata": {},
   "outputs": [
    {
     "name": "stdout",
     "output_type": "stream",
     "text": [
      "Enter number of elements in the list : 5\n",
      "Enter element No-1: \n",
      "1\n",
      "Enter element No-2: \n",
      "1\n",
      "Enter element No-3: \n",
      "2\n",
      "Enter element No-4: \n",
      "3\n",
      "Enter element No-5: \n",
      "4\n",
      "The entered list is: \n",
      " [1, 1, 2, 3, 4]\n"
     ]
    }
   ],
   "source": [
    "listA = []\n",
    "# Input number of elements\n",
    "n = int(input(\"Enter number of elements in the list : \"))\n",
    "# iterating till the range\n",
    "for i in range(0, n):\n",
    "   print(\"Enter element No-{}: \".format(i+1))\n",
    "   elm = int(input())\n",
    "   listA.append(elm) # adding the element\n",
    "print(\"The entered list is: \\n\",listA)"
   ]
  },
  {
   "cell_type": "code",
   "execution_count": 13,
   "id": "db37bee6",
   "metadata": {},
   "outputs": [
    {
     "data": {
      "text/plain": [
       "[1, 2, 3, 4]"
      ]
     },
     "execution_count": 13,
     "metadata": {},
     "output_type": "execute_result"
    }
   ],
   "source": [
    "res = [i for n, i in enumerate(listA) if i not in listA[:n]]\n",
    "res"
   ]
  },
  {
   "cell_type": "markdown",
   "id": "e10dc711",
   "metadata": {},
   "source": [
    "alternative method"
   ]
  },
  {
   "cell_type": "code",
   "execution_count": 11,
   "id": "9b7068f8",
   "metadata": {},
   "outputs": [],
   "source": [
    "def input_list(list1):\n",
    "    list1 = []\n",
    "    # Input number of elements\n",
    "    n = int(input(\"Enter number of elements in the list : \"))\n",
    "    # iterating till the range\n",
    "    for i in range(0, n):\n",
    "        print(\"Enter element No-{}: \".format(i+1))\n",
    "        elm = int(input())\n",
    "        list1.append(elm) # adding the element\n",
    "    print(\"The entered list is: \\n\",list1)"
   ]
  },
  {
   "cell_type": "code",
   "execution_count": 19,
   "id": "7675d484",
   "metadata": {},
   "outputs": [
    {
     "name": "stdout",
     "output_type": "stream",
     "text": [
      "Enter number of elements in the list : 5\n",
      "Enter element No-1: \n",
      "1\n",
      "Enter element No-2: \n",
      "1\n",
      "Enter element No-3: \n",
      "2\n",
      "Enter element No-4: \n",
      "2\n",
      "Enter element No-5: \n",
      "3\n",
      "The entered list is: \n",
      " [1, 1, 2, 2, 3]\n"
     ]
    }
   ],
   "source": [
    "lst=[]\n",
    "lst1=input_list(lst)"
   ]
  },
  {
   "cell_type": "markdown",
   "id": "bd9993a3",
   "metadata": {},
   "source": [
    "# "
   ]
  },
  {
   "cell_type": "code",
   "execution_count": 23,
   "id": "8e952c8e",
   "metadata": {},
   "outputs": [],
   "source": [
    "def remove_duplicates(listA):\n",
    "    res = []\n",
    "    for i in listA:\n",
    "        if i not in res:\n",
    "            res.append(i)\n",
    "    return res"
   ]
  },
  {
   "cell_type": "code",
   "execution_count": 24,
   "id": "9c908d10",
   "metadata": {},
   "outputs": [
    {
     "ename": "TypeError",
     "evalue": "'NoneType' object is not iterable",
     "output_type": "error",
     "traceback": [
      "\u001b[1;31m---------------------------------------------------------------------------\u001b[0m",
      "\u001b[1;31mTypeError\u001b[0m                                 Traceback (most recent call last)",
      "Input \u001b[1;32mIn [24]\u001b[0m, in \u001b[0;36m<cell line: 1>\u001b[1;34m()\u001b[0m\n\u001b[1;32m----> 1\u001b[0m \u001b[43mremove_duplicates\u001b[49m\u001b[43m(\u001b[49m\u001b[43mlst1\u001b[49m\u001b[43m)\u001b[49m\n",
      "Input \u001b[1;32mIn [23]\u001b[0m, in \u001b[0;36mremove_duplicates\u001b[1;34m(listA)\u001b[0m\n\u001b[0;32m      1\u001b[0m \u001b[38;5;28;01mdef\u001b[39;00m \u001b[38;5;21mremove_duplicates\u001b[39m(listA):\n\u001b[0;32m      2\u001b[0m     res \u001b[38;5;241m=\u001b[39m []\n\u001b[1;32m----> 3\u001b[0m     \u001b[38;5;28;01mfor\u001b[39;00m i \u001b[38;5;129;01min\u001b[39;00m listA:\n\u001b[0;32m      4\u001b[0m         \u001b[38;5;28;01mif\u001b[39;00m i \u001b[38;5;129;01mnot\u001b[39;00m \u001b[38;5;129;01min\u001b[39;00m res:\n\u001b[0;32m      5\u001b[0m             res\u001b[38;5;241m.\u001b[39mappend(i)\n",
      "\u001b[1;31mTypeError\u001b[0m: 'NoneType' object is not iterable"
     ]
    }
   ],
   "source": [
    "remove_duplicates(lst1)"
   ]
  },
  {
   "cell_type": "code",
   "execution_count": 39,
   "id": "6f6f14fa",
   "metadata": {},
   "outputs": [
    {
     "ename": "NameError",
     "evalue": "name 'lst' is not defined",
     "output_type": "error",
     "traceback": [
      "\u001b[1;31m---------------------------------------------------------------------------\u001b[0m",
      "\u001b[1;31mNameError\u001b[0m                                 Traceback (most recent call last)",
      "Input \u001b[1;32mIn [39]\u001b[0m, in \u001b[0;36m<cell line: 1>\u001b[1;34m()\u001b[0m\n\u001b[1;32m----> 1\u001b[0m input_list(\u001b[43mlst\u001b[49m)\n",
      "\u001b[1;31mNameError\u001b[0m: name 'lst' is not defined"
     ]
    }
   ],
   "source": [
    "input_list(lst)"
   ]
  },
  {
   "cell_type": "code",
   "execution_count": null,
   "id": "b236b571",
   "metadata": {},
   "outputs": [],
   "source": []
  }
 ],
 "metadata": {
  "kernelspec": {
   "display_name": "Python 3 (ipykernel)",
   "language": "python",
   "name": "python3"
  },
  "language_info": {
   "codemirror_mode": {
    "name": "ipython",
    "version": 3
   },
   "file_extension": ".py",
   "mimetype": "text/x-python",
   "name": "python",
   "nbconvert_exporter": "python",
   "pygments_lexer": "ipython3",
   "version": "3.9.12"
  }
 },
 "nbformat": 4,
 "nbformat_minor": 5
}
