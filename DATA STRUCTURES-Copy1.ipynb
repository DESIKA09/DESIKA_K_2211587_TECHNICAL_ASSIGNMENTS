{
 "cells": [
  {
   "cell_type": "markdown",
   "id": "0de4594f",
   "metadata": {},
   "source": [
    "# DATA STRUCTURES\n",
    "\n",
    "## LIST, SET, TUPLE, DICTIONARY"
   ]
  },
  {
   "cell_type": "markdown",
   "id": "737cad1a",
   "metadata": {},
   "source": [
    "### LIST"
   ]
  },
  {
   "cell_type": "markdown",
   "id": "ea10b8d7",
   "metadata": {},
   "source": [
    "A list is collection of elements which are ordered and indexed\n",
    "\n",
    "We use squared brackets[] for list\n",
    "\n",
    "it is mutable\n"
   ]
  },
  {
   "cell_type": "code",
   "execution_count": 1,
   "id": "2e07100c",
   "metadata": {},
   "outputs": [
    {
     "name": "stdout",
     "output_type": "stream",
     "text": [
      "[1, 2, 3, 4, 5, 'desika', 'ball', 3.14, False]\n"
     ]
    }
   ],
   "source": [
    "list_1=[1,2,3,4,5,\"desika\",\"ball\",3.14, False]\n",
    "print(list_1)"
   ]
  },
  {
   "cell_type": "markdown",
   "id": "50cf8647",
   "metadata": {},
   "source": [
    "indexing the elements in a list(In python the indexing start from 0)\n",
    "\n",
    "If we want to extract the element \"desika\", the following code can be used\n"
   ]
  },
  {
   "cell_type": "code",
   "execution_count": 2,
   "id": "777e3dd7",
   "metadata": {},
   "outputs": [
    {
     "name": "stdout",
     "output_type": "stream",
     "text": [
      "2\n",
      "5\n"
     ]
    }
   ],
   "source": [
    "#0   1   2    3   4   5        6     7      8   (left indexing) \n",
    "\n",
    "#1   2   3    4   5  desika  ball  3.14  False\n",
    "\n",
    "print(list_1[1]) #left indexing\n",
    "print(list_1[4])"
   ]
  },
  {
   "cell_type": "code",
   "execution_count": 3,
   "id": "daae1ffc",
   "metadata": {},
   "outputs": [
    {
     "name": "stdout",
     "output_type": "stream",
     "text": [
      "False\n",
      "desika\n"
     ]
    }
   ],
   "source": [
    "#1   2   3    4   5  desika  ball   3.14   False   \n",
    "#-9 -8  -7   -6   -5   -4     -3     -2     -1   # right indexing\n",
    "print(list_1[-1]) \n",
    "print(list_1[-4])"
   ]
  },
  {
   "cell_type": "markdown",
   "id": "6d5646d3",
   "metadata": {},
   "source": [
    "**EXTRACTING A RANGE OF ELEMENTS**\n",
    "\n",
    "syntax\n",
    "\n",
    "name_of_the_list[starting position:ending position]\n",
    "\n",
    "Here, the element in the ending position is not included"
   ]
  },
  {
   "cell_type": "code",
   "execution_count": 4,
   "id": "ce416c3d",
   "metadata": {},
   "outputs": [
    {
     "data": {
      "text/plain": [
       "['desika', 'ball', 3.14]"
      ]
     },
     "execution_count": 4,
     "metadata": {},
     "output_type": "execute_result"
    }
   ],
   "source": [
    "list_1[5:8]"
   ]
  },
  {
   "cell_type": "markdown",
   "id": "44f5d0c3",
   "metadata": {},
   "source": [
    "To know all the functions or attributes that can be performed using the given objects, we use directory i.e., dir()"
   ]
  },
  {
   "cell_type": "code",
   "execution_count": 5,
   "id": "4fe5b925",
   "metadata": {},
   "outputs": [
    {
     "data": {
      "text/plain": [
       "['__add__',\n",
       " '__class__',\n",
       " '__class_getitem__',\n",
       " '__contains__',\n",
       " '__delattr__',\n",
       " '__delitem__',\n",
       " '__dir__',\n",
       " '__doc__',\n",
       " '__eq__',\n",
       " '__format__',\n",
       " '__ge__',\n",
       " '__getattribute__',\n",
       " '__getitem__',\n",
       " '__gt__',\n",
       " '__hash__',\n",
       " '__iadd__',\n",
       " '__imul__',\n",
       " '__init__',\n",
       " '__init_subclass__',\n",
       " '__iter__',\n",
       " '__le__',\n",
       " '__len__',\n",
       " '__lt__',\n",
       " '__mul__',\n",
       " '__ne__',\n",
       " '__new__',\n",
       " '__reduce__',\n",
       " '__reduce_ex__',\n",
       " '__repr__',\n",
       " '__reversed__',\n",
       " '__rmul__',\n",
       " '__setattr__',\n",
       " '__setitem__',\n",
       " '__sizeof__',\n",
       " '__str__',\n",
       " '__subclasshook__',\n",
       " 'append',\n",
       " 'clear',\n",
       " 'copy',\n",
       " 'count',\n",
       " 'extend',\n",
       " 'index',\n",
       " 'insert',\n",
       " 'pop',\n",
       " 'remove',\n",
       " 'reverse',\n",
       " 'sort']"
      ]
     },
     "execution_count": 5,
     "metadata": {},
     "output_type": "execute_result"
    }
   ],
   "source": [
    "dir(list_1)"
   ]
  },
  {
   "cell_type": "markdown",
   "id": "c4fb1a3d",
   "metadata": {},
   "source": [
    "### Now let us perform some  of the attribute mentioned above for list."
   ]
  },
  {
   "cell_type": "markdown",
   "id": "8f9fb99c",
   "metadata": {},
   "source": [
    "**APPEND**\n",
    "\n",
    "*'append()'* is used to add elements into the existing list\n",
    "\n",
    "It add the elements in tha last position."
   ]
  },
  {
   "cell_type": "code",
   "execution_count": 6,
   "id": "a48abcb8",
   "metadata": {},
   "outputs": [],
   "source": [
    "list_1.append(\"sandhya\")\n"
   ]
  },
  {
   "cell_type": "code",
   "execution_count": 7,
   "id": "73be1fad",
   "metadata": {},
   "outputs": [
    {
     "data": {
      "text/plain": [
       "[1, 2, 3, 4, 5, 'desika', 'ball', 3.14, False, 'sandhya']"
      ]
     },
     "execution_count": 7,
     "metadata": {},
     "output_type": "execute_result"
    }
   ],
   "source": [
    "list_1 # The element sandhya added to the list_1 and it is assigned in the last position."
   ]
  },
  {
   "cell_type": "markdown",
   "id": "18a5afe4",
   "metadata": {},
   "source": [
    "But if we want to add an element win a specified position, we use insert()"
   ]
  },
  {
   "cell_type": "markdown",
   "id": "c9bc4a64",
   "metadata": {},
   "source": [
    "**INSERT**\n",
    "\n",
    "*'insert()'* is used to add elements into the existing list\n",
    "\n",
    "It add the elements in a **specified positions** where we want.\n",
    "\n",
    "*syntax*\n",
    "\n",
    "insert(p,e)\n",
    "\n",
    "p= position of the element\n",
    "\n",
    "e= element to be added"
   ]
  },
  {
   "cell_type": "code",
   "execution_count": 8,
   "id": "8d427331",
   "metadata": {},
   "outputs": [],
   "source": [
    "list_1.insert(3,\"HAPPY\") #inserting the element \"HAPPY\" in 3rd position"
   ]
  },
  {
   "cell_type": "code",
   "execution_count": 9,
   "id": "2c71216e",
   "metadata": {},
   "outputs": [
    {
     "data": {
      "text/plain": [
       "[1, 2, 3, 'HAPPY', 4, 5, 'desika', 'ball', 3.14, False, 'sandhya']"
      ]
     },
     "execution_count": 9,
     "metadata": {},
     "output_type": "execute_result"
    }
   ],
   "source": [
    "list_1"
   ]
  },
  {
   "cell_type": "markdown",
   "id": "0f8b6050",
   "metadata": {},
   "source": [
    "**EXTEND**\n",
    "\n",
    "*'extend()'* is used to add the elements of the list at the end of the current list\n"
   ]
  },
  {
   "cell_type": "code",
   "execution_count": 10,
   "id": "33094bd8",
   "metadata": {},
   "outputs": [
    {
     "data": {
      "text/plain": [
       "['apple', 'banana']"
      ]
     },
     "execution_count": 10,
     "metadata": {},
     "output_type": "execute_result"
    }
   ],
   "source": [
    "list_2=['apple','banana']\n",
    "list_2"
   ]
  },
  {
   "cell_type": "code",
   "execution_count": 11,
   "id": "22888794",
   "metadata": {},
   "outputs": [],
   "source": [
    "list_1.extend(list_2) #To add the list_2 to the current list as iterables i.e., unpacking the list_2 and adding the elements of list_ with list_1"
   ]
  },
  {
   "cell_type": "code",
   "execution_count": 12,
   "id": "e69dc2cb",
   "metadata": {},
   "outputs": [
    {
     "data": {
      "text/plain": [
       "[1,\n",
       " 2,\n",
       " 3,\n",
       " 'HAPPY',\n",
       " 4,\n",
       " 5,\n",
       " 'desika',\n",
       " 'ball',\n",
       " 3.14,\n",
       " False,\n",
       " 'sandhya',\n",
       " 'apple',\n",
       " 'banana']"
      ]
     },
     "execution_count": 12,
     "metadata": {},
     "output_type": "execute_result"
    }
   ],
   "source": [
    "list_1"
   ]
  },
  {
   "cell_type": "markdown",
   "id": "cc49694b",
   "metadata": {},
   "source": [
    "**Difference between append and extend**\n",
    "\n",
    "append is used to add the elements to the list. so, if we give a list to be added, it take it as a single element\n",
    "whereas extend add the each of the elements of the list as separate elements."
   ]
  },
  {
   "cell_type": "code",
   "execution_count": 13,
   "id": "2b1d3a37",
   "metadata": {},
   "outputs": [
    {
     "data": {
      "text/plain": [
       "[1,\n",
       " 2,\n",
       " 3,\n",
       " 'HAPPY',\n",
       " 4,\n",
       " 5,\n",
       " 'desika',\n",
       " 'ball',\n",
       " 3.14,\n",
       " False,\n",
       " 'sandhya',\n",
       " 'apple',\n",
       " 'banana']"
      ]
     },
     "execution_count": 13,
     "metadata": {},
     "output_type": "execute_result"
    }
   ],
   "source": [
    "list_1"
   ]
  },
  {
   "cell_type": "code",
   "execution_count": 14,
   "id": "36de6740",
   "metadata": {},
   "outputs": [
    {
     "name": "stdout",
     "output_type": "stream",
     "text": [
      "[1, 2, 3, 'HAPPY', 4, 5, 'desika', 'ball', 3.14, False, 'sandhya', 'apple', 'banana', ['A', 'B']]\n"
     ]
    }
   ],
   "source": [
    "list_1.append([\"A\",\"B\"])\n",
    "print(list_1)"
   ]
  },
  {
   "cell_type": "code",
   "execution_count": 15,
   "id": "f2a18bcc",
   "metadata": {},
   "outputs": [
    {
     "data": {
      "text/plain": [
       "['A', 'B']"
      ]
     },
     "execution_count": 15,
     "metadata": {},
     "output_type": "execute_result"
    }
   ],
   "source": [
    "list_1[-1]"
   ]
  },
  {
   "cell_type": "code",
   "execution_count": 16,
   "id": "e04f21f9",
   "metadata": {},
   "outputs": [
    {
     "name": "stdout",
     "output_type": "stream",
     "text": [
      "[1, 2, 3, 'HAPPY', 4, 5, 'desika', 'ball', 3.14, False, 'sandhya', 'apple', 'banana', ['A', 'B'], True, False]\n"
     ]
    }
   ],
   "source": [
    "list_1.extend([True,False])\n",
    "print(list_1)"
   ]
  },
  {
   "cell_type": "code",
   "execution_count": 17,
   "id": "950814af",
   "metadata": {},
   "outputs": [
    {
     "data": {
      "text/plain": [
       "False"
      ]
     },
     "execution_count": 17,
     "metadata": {},
     "output_type": "execute_result"
    }
   ],
   "source": [
    "list_1[-1]"
   ]
  },
  {
   "cell_type": "markdown",
   "id": "f4e7d494",
   "metadata": {},
   "source": [
    "#### Removing of elements"
   ]
  },
  {
   "cell_type": "markdown",
   "id": "4de791d8",
   "metadata": {},
   "source": [
    "**REMOVE**\n",
    "\n",
    "It is used to remove the specified elements form the list."
   ]
  },
  {
   "cell_type": "code",
   "execution_count": 18,
   "id": "aab149c8",
   "metadata": {},
   "outputs": [
    {
     "data": {
      "text/plain": [
       "[1,\n",
       " 2,\n",
       " 3,\n",
       " 'HAPPY',\n",
       " 4,\n",
       " 5,\n",
       " 'desika',\n",
       " 'ball',\n",
       " 3.14,\n",
       " False,\n",
       " 'sandhya',\n",
       " 'apple',\n",
       " 'banana',\n",
       " ['A', 'B'],\n",
       " True,\n",
       " False]"
      ]
     },
     "execution_count": 18,
     "metadata": {},
     "output_type": "execute_result"
    }
   ],
   "source": [
    "list_1"
   ]
  },
  {
   "cell_type": "code",
   "execution_count": 19,
   "id": "7cb8bd2b",
   "metadata": {},
   "outputs": [
    {
     "data": {
      "text/plain": [
       "[1,\n",
       " 2,\n",
       " 3,\n",
       " 'HAPPY',\n",
       " 4,\n",
       " 5,\n",
       " 'desika',\n",
       " 'ball',\n",
       " 3.14,\n",
       " False,\n",
       " 'sandhya',\n",
       " 'apple',\n",
       " ['A', 'B'],\n",
       " True,\n",
       " False]"
      ]
     },
     "execution_count": 19,
     "metadata": {},
     "output_type": "execute_result"
    }
   ],
   "source": [
    "list_1.remove(\"banana\") #to remove the element 'banana'\n",
    "list_1"
   ]
  },
  {
   "cell_type": "markdown",
   "id": "c545b279",
   "metadata": {},
   "source": [
    "**pop**\n",
    "\n",
    "pop() is used to remove elements using the specified position."
   ]
  },
  {
   "cell_type": "code",
   "execution_count": 20,
   "id": "bb966001",
   "metadata": {},
   "outputs": [
    {
     "data": {
      "text/plain": [
       "[1,\n",
       " 2,\n",
       " 3,\n",
       " 'HAPPY',\n",
       " 4,\n",
       " 5,\n",
       " 'desika',\n",
       " 'ball',\n",
       " 3.14,\n",
       " False,\n",
       " 'sandhya',\n",
       " 'apple',\n",
       " ['A', 'B'],\n",
       " True,\n",
       " False]"
      ]
     },
     "execution_count": 20,
     "metadata": {},
     "output_type": "execute_result"
    }
   ],
   "source": [
    "list_1"
   ]
  },
  {
   "cell_type": "code",
   "execution_count": 21,
   "id": "1d1e7351",
   "metadata": {},
   "outputs": [
    {
     "data": {
      "text/plain": [
       "'HAPPY'"
      ]
     },
     "execution_count": 21,
     "metadata": {},
     "output_type": "execute_result"
    }
   ],
   "source": [
    "list_1.pop(3) #removing the element in third poistion"
   ]
  },
  {
   "cell_type": "code",
   "execution_count": 22,
   "id": "a27e69e3",
   "metadata": {},
   "outputs": [
    {
     "data": {
      "text/plain": [
       "[1,\n",
       " 2,\n",
       " 3,\n",
       " 4,\n",
       " 5,\n",
       " 'desika',\n",
       " 'ball',\n",
       " 3.14,\n",
       " False,\n",
       " 'sandhya',\n",
       " 'apple',\n",
       " ['A', 'B'],\n",
       " True,\n",
       " False]"
      ]
     },
     "execution_count": 22,
     "metadata": {},
     "output_type": "execute_result"
    }
   ],
   "source": [
    "list_1"
   ]
  },
  {
   "cell_type": "code",
   "execution_count": 23,
   "id": "99bd5b2f",
   "metadata": {},
   "outputs": [
    {
     "data": {
      "text/plain": [
       "['__add__',\n",
       " '__class__',\n",
       " '__class_getitem__',\n",
       " '__contains__',\n",
       " '__delattr__',\n",
       " '__delitem__',\n",
       " '__dir__',\n",
       " '__doc__',\n",
       " '__eq__',\n",
       " '__format__',\n",
       " '__ge__',\n",
       " '__getattribute__',\n",
       " '__getitem__',\n",
       " '__gt__',\n",
       " '__hash__',\n",
       " '__iadd__',\n",
       " '__imul__',\n",
       " '__init__',\n",
       " '__init_subclass__',\n",
       " '__iter__',\n",
       " '__le__',\n",
       " '__len__',\n",
       " '__lt__',\n",
       " '__mul__',\n",
       " '__ne__',\n",
       " '__new__',\n",
       " '__reduce__',\n",
       " '__reduce_ex__',\n",
       " '__repr__',\n",
       " '__reversed__',\n",
       " '__rmul__',\n",
       " '__setattr__',\n",
       " '__setitem__',\n",
       " '__sizeof__',\n",
       " '__str__',\n",
       " '__subclasshook__',\n",
       " 'append',\n",
       " 'clear',\n",
       " 'copy',\n",
       " 'count',\n",
       " 'extend',\n",
       " 'index',\n",
       " 'insert',\n",
       " 'pop',\n",
       " 'remove',\n",
       " 'reverse',\n",
       " 'sort']"
      ]
     },
     "execution_count": 23,
     "metadata": {},
     "output_type": "execute_result"
    }
   ],
   "source": [
    "dir(list_1)"
   ]
  },
  {
   "cell_type": "markdown",
   "id": "918e5618",
   "metadata": {},
   "source": [
    "**SORT**\n",
    "\n",
    "*sort()* is used to sort the order of the elements in a specified manner\n",
    "\n",
    "syntax\n",
    "sort(key,reverse)\n",
    "\n",
    "\n",
    "key is a function which specifies the method of sorting or sorting manner\n",
    "\n",
    "reverse=True gives descending order\n",
    "\n",
    "reverse=False gives the ascending order. By default reverse=True\n"
   ]
  },
  {
   "cell_type": "code",
   "execution_count": 24,
   "id": "a5741217",
   "metadata": {},
   "outputs": [
    {
     "data": {
      "text/plain": [
       "[10, 9, 11, 1, 5, 0]"
      ]
     },
     "execution_count": 24,
     "metadata": {},
     "output_type": "execute_result"
    }
   ],
   "source": [
    "list3=[10,9,11,1,5,0]\n",
    "\n",
    "list3"
   ]
  },
  {
   "cell_type": "code",
   "execution_count": 25,
   "id": "847c90d4",
   "metadata": {},
   "outputs": [],
   "source": [
    "list3.sort()"
   ]
  },
  {
   "cell_type": "code",
   "execution_count": 26,
   "id": "03d31855",
   "metadata": {},
   "outputs": [
    {
     "name": "stdout",
     "output_type": "stream",
     "text": [
      "Ascending order of the list3 is  [0, 1, 5, 9, 10, 11]\n"
     ]
    }
   ],
   "source": [
    "print(\"Ascending order of the list3 is \",  list3)"
   ]
  },
  {
   "cell_type": "code",
   "execution_count": 27,
   "id": "dd2068ab",
   "metadata": {},
   "outputs": [],
   "source": [
    "list4=[1,2,3,4,5,6]\n",
    "list4.sort(reverse=True)"
   ]
  },
  {
   "cell_type": "code",
   "execution_count": 28,
   "id": "1a6cb0cc",
   "metadata": {},
   "outputs": [
    {
     "name": "stdout",
     "output_type": "stream",
     "text": [
      "descending order of the list3 is  [6, 5, 4, 3, 2, 1]\n"
     ]
    }
   ],
   "source": [
    "print(\"descending order of the list3 is \",  list4)"
   ]
  },
  {
   "cell_type": "code",
   "execution_count": 29,
   "id": "e0163828",
   "metadata": {},
   "outputs": [],
   "source": [
    "list5=[\"a\",\"r\",\"b\"]  #we can also sort strings in alphabetical order\n",
    "list5.sort()"
   ]
  },
  {
   "cell_type": "code",
   "execution_count": 30,
   "id": "b2a560c2",
   "metadata": {},
   "outputs": [
    {
     "data": {
      "text/plain": [
       "['a', 'b', 'r']"
      ]
     },
     "execution_count": 30,
     "metadata": {},
     "output_type": "execute_result"
    }
   ],
   "source": [
    "list5"
   ]
  },
  {
   "cell_type": "markdown",
   "id": "072f6878",
   "metadata": {},
   "source": [
    "##### sorting using functions"
   ]
  },
  {
   "cell_type": "code",
   "execution_count": 31,
   "id": "e2e65ff8",
   "metadata": {},
   "outputs": [
    {
     "name": "stdout",
     "output_type": "stream",
     "text": [
      "['VW', 'BMW', 'Ford', 'Mitsubishi']\n"
     ]
    }
   ],
   "source": [
    "#To sort theelements using their length\n",
    "def myFunc(e):\n",
    "  return len(e)\n",
    "\n",
    "cars = ['Ford', 'Mitsubishi', 'BMW', 'VW']\n",
    "\n",
    "cars.sort(key=myFunc)\n",
    "\n",
    "print(cars)\n"
   ]
  },
  {
   "cell_type": "markdown",
   "id": "1d781628",
   "metadata": {},
   "source": [
    "**REVERSE**\n",
    "\n",
    "reverse() is used to reverse the order of the list"
   ]
  },
  {
   "cell_type": "code",
   "execution_count": 32,
   "id": "c9a12270",
   "metadata": {},
   "outputs": [],
   "source": [
    "list6=['desika',2,6]\n",
    "list6.reverse()"
   ]
  },
  {
   "cell_type": "code",
   "execution_count": 33,
   "id": "82aa45c8",
   "metadata": {},
   "outputs": [
    {
     "data": {
      "text/plain": [
       "[6, 2, 'desika']"
      ]
     },
     "execution_count": 33,
     "metadata": {},
     "output_type": "execute_result"
    }
   ],
   "source": [
    "list6"
   ]
  },
  {
   "cell_type": "markdown",
   "id": "ba9df534",
   "metadata": {},
   "source": [
    "**COPY**\n",
    "\n",
    "*copy()* is used to copy the list\n",
    "\n",
    "It returns the shallow copy of the list"
   ]
  },
  {
   "cell_type": "code",
   "execution_count": 34,
   "id": "50d2e9c8",
   "metadata": {},
   "outputs": [],
   "source": [
    "list7=['a','b','c']\n",
    "s=list7.copy()   #to copy the list7 to the variable s"
   ]
  },
  {
   "cell_type": "code",
   "execution_count": 35,
   "id": "23acd623",
   "metadata": {},
   "outputs": [
    {
     "data": {
      "text/plain": [
       "['a', 'b', 'c']"
      ]
     },
     "execution_count": 35,
     "metadata": {},
     "output_type": "execute_result"
    }
   ],
   "source": [
    "s"
   ]
  },
  {
   "cell_type": "markdown",
   "id": "4038c791",
   "metadata": {},
   "source": [
    "**COUNT**\n",
    "  \n",
    "*count()* returns the no. of occurence of the specified element\n"
   ]
  },
  {
   "cell_type": "code",
   "execution_count": 36,
   "id": "d8349db7",
   "metadata": {},
   "outputs": [
    {
     "data": {
      "text/plain": [
       "15"
      ]
     },
     "execution_count": 36,
     "metadata": {},
     "output_type": "execute_result"
    }
   ],
   "source": [
    "list8=[1,1,2,2,3,3,3,6,6,6,3,3,4,4,4,4,4,5,5,6,6,6,6,6,6,6,6,6,6,6,6,]\n",
    "list8.count(6)  #count the no. of occurence of the element 6"
   ]
  },
  {
   "cell_type": "markdown",
   "id": "10680b16",
   "metadata": {},
   "source": [
    "**INDEX**\n",
    "\n",
    "*index()* returns the first index of the element\n"
   ]
  },
  {
   "cell_type": "code",
   "execution_count": 37,
   "id": "0e8f4b8d",
   "metadata": {},
   "outputs": [
    {
     "data": {
      "text/plain": [
       "2"
      ]
     },
     "execution_count": 37,
     "metadata": {},
     "output_type": "execute_result"
    }
   ],
   "source": [
    "list9=['a','c','f','d','e']\n",
    "\n",
    "list9.index('f')"
   ]
  },
  {
   "cell_type": "markdown",
   "id": "0b58260d",
   "metadata": {},
   "source": [
    "### SET"
   ]
  },
  {
   "cell_type": "markdown",
   "id": "c4ed152e",
   "metadata": {},
   "source": [
    "Sets are used to store multiple items in a single variable.\n",
    "\n",
    "A set is a collection which is unordered, unchangeable*, and unindexed.\n",
    "\n",
    "they are used to extract the unique values."
   ]
  },
  {
   "cell_type": "code",
   "execution_count": 38,
   "id": "5a9f1c68",
   "metadata": {},
   "outputs": [
    {
     "data": {
      "text/plain": [
       "{1, 2, 3, 4, 6, 7, 8}"
      ]
     },
     "execution_count": 38,
     "metadata": {},
     "output_type": "execute_result"
    }
   ],
   "source": [
    "set1={1,2,3,4,1,1,3,4,6,2,7,8}\n",
    "set1"
   ]
  },
  {
   "cell_type": "code",
   "execution_count": 39,
   "id": "34687e58",
   "metadata": {},
   "outputs": [
    {
     "data": {
      "text/plain": [
       "['__and__',\n",
       " '__class__',\n",
       " '__class_getitem__',\n",
       " '__contains__',\n",
       " '__delattr__',\n",
       " '__dir__',\n",
       " '__doc__',\n",
       " '__eq__',\n",
       " '__format__',\n",
       " '__ge__',\n",
       " '__getattribute__',\n",
       " '__gt__',\n",
       " '__hash__',\n",
       " '__iand__',\n",
       " '__init__',\n",
       " '__init_subclass__',\n",
       " '__ior__',\n",
       " '__isub__',\n",
       " '__iter__',\n",
       " '__ixor__',\n",
       " '__le__',\n",
       " '__len__',\n",
       " '__lt__',\n",
       " '__ne__',\n",
       " '__new__',\n",
       " '__or__',\n",
       " '__rand__',\n",
       " '__reduce__',\n",
       " '__reduce_ex__',\n",
       " '__repr__',\n",
       " '__ror__',\n",
       " '__rsub__',\n",
       " '__rxor__',\n",
       " '__setattr__',\n",
       " '__sizeof__',\n",
       " '__str__',\n",
       " '__sub__',\n",
       " '__subclasshook__',\n",
       " '__xor__',\n",
       " 'add',\n",
       " 'clear',\n",
       " 'copy',\n",
       " 'difference',\n",
       " 'difference_update',\n",
       " 'discard',\n",
       " 'intersection',\n",
       " 'intersection_update',\n",
       " 'isdisjoint',\n",
       " 'issubset',\n",
       " 'issuperset',\n",
       " 'pop',\n",
       " 'remove',\n",
       " 'symmetric_difference',\n",
       " 'symmetric_difference_update',\n",
       " 'union',\n",
       " 'update']"
      ]
     },
     "execution_count": 39,
     "metadata": {},
     "output_type": "execute_result"
    }
   ],
   "source": [
    "dir(set1)"
   ]
  },
  {
   "cell_type": "markdown",
   "id": "3b1cbb96",
   "metadata": {},
   "source": [
    "**ADD**\n",
    "\n",
    "*add()* is uded to add the elements to a set"
   ]
  },
  {
   "cell_type": "code",
   "execution_count": 40,
   "id": "81bdb5eb",
   "metadata": {},
   "outputs": [],
   "source": [
    "set1.add(5)"
   ]
  },
  {
   "cell_type": "code",
   "execution_count": 41,
   "id": "d28cf79c",
   "metadata": {},
   "outputs": [
    {
     "name": "stdout",
     "output_type": "stream",
     "text": [
      "{1, 2, 3, 4, 5, 6, 7, 8}\n"
     ]
    }
   ],
   "source": [
    "print(set1)"
   ]
  },
  {
   "cell_type": "markdown",
   "id": "84d0752a",
   "metadata": {},
   "source": [
    "**CLEAR**\n",
    "(same as in list)\n",
    "it is used to remove all the elements from the set"
   ]
  },
  {
   "cell_type": "code",
   "execution_count": 42,
   "id": "1cd654e0",
   "metadata": {},
   "outputs": [],
   "source": [
    "set1.clear()"
   ]
  },
  {
   "cell_type": "code",
   "execution_count": 43,
   "id": "b9d0c4be",
   "metadata": {},
   "outputs": [
    {
     "data": {
      "text/plain": [
       "set()"
      ]
     },
     "execution_count": 43,
     "metadata": {},
     "output_type": "execute_result"
    }
   ],
   "source": [
    "set1  #empty set"
   ]
  },
  {
   "cell_type": "markdown",
   "id": "30ec39d4",
   "metadata": {},
   "source": [
    "**COPY**\n",
    "\n",
    "(same as in list)\n",
    "\n",
    "It is used to copy the set"
   ]
  },
  {
   "cell_type": "code",
   "execution_count": 44,
   "id": "3a64dc5c",
   "metadata": {},
   "outputs": [
    {
     "data": {
      "text/plain": [
       "{1, 5, 6, 7, 9, 'a', 'b', 'c'}"
      ]
     },
     "execution_count": 44,
     "metadata": {},
     "output_type": "execute_result"
    }
   ],
   "source": [
    "set2={'a','b','c',1,5,6,7,9}\n",
    "set2"
   ]
  },
  {
   "cell_type": "code",
   "execution_count": 45,
   "id": "16b9c3e3",
   "metadata": {},
   "outputs": [],
   "source": [
    "copy_set2=set2.copy() #set2  is copied to copy_set2"
   ]
  },
  {
   "cell_type": "code",
   "execution_count": 46,
   "id": "f172412e",
   "metadata": {},
   "outputs": [
    {
     "data": {
      "text/plain": [
       "{1, 5, 6, 7, 9, 'a', 'b', 'c'}"
      ]
     },
     "execution_count": 46,
     "metadata": {},
     "output_type": "execute_result"
    }
   ],
   "source": [
    "copy_set2"
   ]
  },
  {
   "cell_type": "markdown",
   "id": "ce7746f0",
   "metadata": {},
   "source": [
    "**DIFFERENCE**\n",
    "\n",
    "It gives the difference between the two or more sets\n",
    "\n"
   ]
  },
  {
   "cell_type": "code",
   "execution_count": 47,
   "id": "68122e18",
   "metadata": {},
   "outputs": [],
   "source": [
    "set1={1,3,5,7,9,0}\n",
    "set2={1,3,7,9,11,13}\n"
   ]
  },
  {
   "cell_type": "code",
   "execution_count": 48,
   "id": "fc549dd8",
   "metadata": {},
   "outputs": [
    {
     "data": {
      "text/plain": [
       "{0, 5}"
      ]
     },
     "execution_count": 48,
     "metadata": {},
     "output_type": "execute_result"
    }
   ],
   "source": [
    "set1.difference(set2)  #Return a set that contains the items that only exist in set1, and not in set2"
   ]
  },
  {
   "cell_type": "code",
   "execution_count": 49,
   "id": "0c2f6298",
   "metadata": {},
   "outputs": [
    {
     "data": {
      "text/plain": [
       "{11, 13}"
      ]
     },
     "execution_count": 49,
     "metadata": {},
     "output_type": "execute_result"
    }
   ],
   "source": [
    "set2.difference(set1)  #Return a set that contains the items that only exist in set2, and not in set1"
   ]
  },
  {
   "cell_type": "markdown",
   "id": "dd25fbd7",
   "metadata": {},
   "source": [
    "**DIFFERENCE_UPDATE**\n",
    "\n",
    "The difference_update() method removes the items that exist in both sets."
   ]
  },
  {
   "cell_type": "code",
   "execution_count": 50,
   "id": "5d233b2d",
   "metadata": {},
   "outputs": [],
   "source": [
    "set3={2,4,6,8,0}\n",
    "set4={4,8,10,12}\n",
    "\n",
    "set3.difference_update(set4)"
   ]
  },
  {
   "cell_type": "code",
   "execution_count": 51,
   "id": "718dd766",
   "metadata": {},
   "outputs": [
    {
     "data": {
      "text/plain": [
       "{0, 2, 6}"
      ]
     },
     "execution_count": 51,
     "metadata": {},
     "output_type": "execute_result"
    }
   ],
   "source": [
    "set3"
   ]
  },
  {
   "cell_type": "code",
   "execution_count": 52,
   "id": "7ef906ff",
   "metadata": {},
   "outputs": [],
   "source": [
    "set3={2,4,6,8,0}\n",
    "set4={4,8,10,12}\n",
    "set4.difference_update(set3)"
   ]
  },
  {
   "cell_type": "code",
   "execution_count": 53,
   "id": "fcc86d4c",
   "metadata": {},
   "outputs": [
    {
     "data": {
      "text/plain": [
       "{10, 12}"
      ]
     },
     "execution_count": 53,
     "metadata": {},
     "output_type": "execute_result"
    }
   ],
   "source": [
    "set4"
   ]
  },
  {
   "cell_type": "markdown",
   "id": "29f79d05",
   "metadata": {},
   "source": [
    "The difference_update() method is different from the difference() method, because the difference() method returns a new set, without the unwanted items, and the difference_update() method removes the unwanted items from the original set."
   ]
  },
  {
   "cell_type": "markdown",
   "id": "df1c0bb0",
   "metadata": {},
   "source": [
    "**DISCARD**\n",
    "\n",
    "The discard() method removes the specified item from the set.\n",
    "\n",
    "This method is different from the remove() method, \n",
    "because the remove() method will raise an error if the specified item does not exist, \n",
    "and the discard() method will not."
   ]
  },
  {
   "cell_type": "code",
   "execution_count": 54,
   "id": "eeb5cd9a",
   "metadata": {},
   "outputs": [
    {
     "name": "stdout",
     "output_type": "stream",
     "text": [
      "{'apple', 'cherry'}\n"
     ]
    }
   ],
   "source": [
    "fruits = {\"apple\", \"banana\", \"cherry\"}\n",
    "\n",
    "fruits.discard(\"banana\")  #to remove banana in the set\n",
    "\n",
    "print(fruits)"
   ]
  },
  {
   "cell_type": "markdown",
   "id": "bdd3191d",
   "metadata": {},
   "source": [
    "**REMOVE**\n",
    "\n",
    "*remove()* is used to remove the specified element from the set."
   ]
  },
  {
   "cell_type": "code",
   "execution_count": 55,
   "id": "441d5782",
   "metadata": {},
   "outputs": [],
   "source": [
    "set5={'a','b','c'}\n",
    "set5.remove('c')"
   ]
  },
  {
   "cell_type": "code",
   "execution_count": 56,
   "id": "4aea60d5",
   "metadata": {},
   "outputs": [
    {
     "data": {
      "text/plain": [
       "{'a', 'b'}"
      ]
     },
     "execution_count": 56,
     "metadata": {},
     "output_type": "execute_result"
    }
   ],
   "source": [
    "set5"
   ]
  },
  {
   "cell_type": "markdown",
   "id": "6ebd2b10",
   "metadata": {},
   "source": [
    "**Difference between remove() and discard()**\n",
    "\n",
    "This method is different from the remove() method, \n",
    "\n",
    "because the remove() method will raise an error if the specified item does not exist, \n",
    "\n",
    "and the discard() method will not."
   ]
  },
  {
   "cell_type": "code",
   "execution_count": 57,
   "id": "d3672c5f",
   "metadata": {},
   "outputs": [],
   "source": [
    "set_a={'DESIKA','Shivani'}"
   ]
  },
  {
   "cell_type": "code",
   "execution_count": 58,
   "id": "79901122",
   "metadata": {},
   "outputs": [],
   "source": [
    "set_a.discard('Sam')"
   ]
  },
  {
   "cell_type": "code",
   "execution_count": 59,
   "id": "f9d9b211",
   "metadata": {},
   "outputs": [
    {
     "ename": "KeyError",
     "evalue": "'Sam'",
     "output_type": "error",
     "traceback": [
      "\u001b[1;31m---------------------------------------------------------------------------\u001b[0m",
      "\u001b[1;31mKeyError\u001b[0m                                  Traceback (most recent call last)",
      "Input \u001b[1;32mIn [59]\u001b[0m, in \u001b[0;36m<cell line: 1>\u001b[1;34m()\u001b[0m\n\u001b[1;32m----> 1\u001b[0m \u001b[43mset_a\u001b[49m\u001b[38;5;241;43m.\u001b[39;49m\u001b[43mremove\u001b[49m\u001b[43m(\u001b[49m\u001b[38;5;124;43m'\u001b[39;49m\u001b[38;5;124;43mSam\u001b[39;49m\u001b[38;5;124;43m'\u001b[39;49m\u001b[43m)\u001b[49m\n",
      "\u001b[1;31mKeyError\u001b[0m: 'Sam'"
     ]
    }
   ],
   "source": [
    "set_a.remove('Sam')"
   ]
  },
  {
   "cell_type": "markdown",
   "id": "2fc794c0",
   "metadata": {},
   "source": [
    "**INTERSECTION**\n",
    "\n",
    "The *intersection()* method returns a set that contains the similarity between two or more sets.\n",
    "\n",
    "The sets to e compared should contain equal no. of elements in it.\n",
    "\n",
    "syntax\n",
    "\n",
    "set.intersection(set1, set2 ... etc)"
   ]
  },
  {
   "cell_type": "code",
   "execution_count": 61,
   "id": "b4bfb63b",
   "metadata": {},
   "outputs": [
    {
     "data": {
      "text/plain": [
       "{5, 6}"
      ]
     },
     "execution_count": 61,
     "metadata": {},
     "output_type": "execute_result"
    }
   ],
   "source": [
    "set1={3,4,5,6}\n",
    "set2={5,6,7,8}\n",
    "set2.intersection(set1) #given common element in both set1 and set2"
   ]
  },
  {
   "cell_type": "code",
   "execution_count": 62,
   "id": "9e76f56e",
   "metadata": {},
   "outputs": [
    {
     "data": {
      "text/plain": [
       "{6}"
      ]
     },
     "execution_count": 62,
     "metadata": {},
     "output_type": "execute_result"
    }
   ],
   "source": [
    "set1={3,4,5,6}\n",
    "set2={5,6,7,8}\n",
    "set3={6,7,8,9}\n",
    "\n",
    "set1.intersection(set2,set3)  #gives common element in all the three sets"
   ]
  },
  {
   "cell_type": "markdown",
   "id": "1722655b",
   "metadata": {},
   "source": [
    "**intersection_update**\n",
    "\n",
    "The *intersection_update()* method removes the items  that is not present in both sets (or in all sets if the comparison is done between more than two sets)."
   ]
  },
  {
   "cell_type": "code",
   "execution_count": 63,
   "id": "fa2ff488",
   "metadata": {},
   "outputs": [
    {
     "name": "stdout",
     "output_type": "stream",
     "text": [
      "{'apple'}\n"
     ]
    }
   ],
   "source": [
    "x = {\"apple\", \"banana\", \"cherry\"}\n",
    "y = {\"google\", \"microsoft\", \"apple\"}\n",
    "\n",
    "x.intersection_update(y)\n",
    "\n",
    "print(x)"
   ]
  },
  {
   "cell_type": "markdown",
   "id": "f045ad37",
   "metadata": {},
   "source": [
    "**DIFFERENCE BETWEEN INTERSECTION AND INTERSECTION_UPDATE**\n",
    "\n",
    "The *intersection_update()* method is different from the intersection() method, because the intersection() method returns a new set, without the unwanted items, and the intersection_update() method removes the unwanted items from the original set."
   ]
  },
  {
   "cell_type": "markdown",
   "id": "bb326ea6",
   "metadata": {},
   "source": [
    "**ISDISJOINT**\n",
    "\n",
    "The *isdisjoint()* method returns True if none of the items are present common in both sets, otherwise it returns False."
   ]
  },
  {
   "cell_type": "code",
   "execution_count": 64,
   "id": "52582386",
   "metadata": {},
   "outputs": [
    {
     "data": {
      "text/plain": [
       "False"
      ]
     },
     "execution_count": 64,
     "metadata": {},
     "output_type": "execute_result"
    }
   ],
   "source": [
    "set1={3,4,5,6}\n",
    "set2={5,6,7,8}\n",
    "set1.isdisjoint(set2)"
   ]
  },
  {
   "cell_type": "code",
   "execution_count": 65,
   "id": "a7fc96f5",
   "metadata": {},
   "outputs": [
    {
     "data": {
      "text/plain": [
       "True"
      ]
     },
     "execution_count": 65,
     "metadata": {},
     "output_type": "execute_result"
    }
   ],
   "source": [
    "set1={3,4,5,6}\n",
    "set2={7,8,9}\n",
    "set1.isdisjoint(set2)"
   ]
  },
  {
   "cell_type": "markdown",
   "id": "6872c665",
   "metadata": {},
   "source": [
    "**ISSUBSET**\n",
    "\n",
    "The *issubset()* method returns True if all items in the set exists in the specified set, otherwise it retuns False"
   ]
  },
  {
   "cell_type": "code",
   "execution_count": 66,
   "id": "ddde77c3",
   "metadata": {},
   "outputs": [
    {
     "data": {
      "text/plain": [
       "False"
      ]
     },
     "execution_count": 66,
     "metadata": {},
     "output_type": "execute_result"
    }
   ],
   "source": [
    "set1={3,4,5,6}\n",
    "set2={5,6,7,8} #checks whether the set2 contains all the elements in set1\n",
    "set1.issubset(set2)"
   ]
  },
  {
   "cell_type": "code",
   "execution_count": 67,
   "id": "475f7866",
   "metadata": {},
   "outputs": [
    {
     "data": {
      "text/plain": [
       "True"
      ]
     },
     "execution_count": 67,
     "metadata": {},
     "output_type": "execute_result"
    }
   ],
   "source": [
    "set1={5,6}\n",
    "set2={5,6,7,8}#checks whether the set1 contains all the elements in set2\n",
    "set1.issubset(set2)"
   ]
  },
  {
   "cell_type": "markdown",
   "id": "889dc1f4",
   "metadata": {},
   "source": [
    "**issuperset()**\n",
    "\n",
    "The issuperset() method returns True if all items in the specified set exists in the original set, otherwise it retuns False."
   ]
  },
  {
   "cell_type": "code",
   "execution_count": 68,
   "id": "c735d77f",
   "metadata": {},
   "outputs": [
    {
     "data": {
      "text/plain": [
       "False"
      ]
     },
     "execution_count": 68,
     "metadata": {},
     "output_type": "execute_result"
    }
   ],
   "source": [
    "set1={3,4,5,6}\n",
    "set2={5,6,7,8} #checks whether the set1 contains all the elements in set2\n",
    "set1.issuperset(set2)"
   ]
  },
  {
   "cell_type": "code",
   "execution_count": 69,
   "id": "86e9653c",
   "metadata": {},
   "outputs": [
    {
     "data": {
      "text/plain": [
       "True"
      ]
     },
     "execution_count": 69,
     "metadata": {},
     "output_type": "execute_result"
    }
   ],
   "source": [
    "set1={5,6,7,8,9}\n",
    "set2={5,6,7,8}#checks whether the set1 contains all the elements in set2\n",
    "set1.issuperset(set2)"
   ]
  },
  {
   "cell_type": "markdown",
   "id": "f7393780",
   "metadata": {},
   "source": [
    "**pop**\n",
    "\n",
    "The *pop()* method removes a random item from the set.\n",
    "\n",
    "This method returns the removed item."
   ]
  },
  {
   "cell_type": "code",
   "execution_count": 70,
   "id": "3026c70e",
   "metadata": {},
   "outputs": [
    {
     "data": {
      "text/plain": [
       "5"
      ]
     },
     "execution_count": 70,
     "metadata": {},
     "output_type": "execute_result"
    }
   ],
   "source": [
    "set1.pop()"
   ]
  },
  {
   "cell_type": "markdown",
   "id": "37b5b882",
   "metadata": {},
   "source": [
    "**symmetric_difference()**\n",
    "\n",
    "The *symmetric_difference()*\n",
    "method returns a set that contains all items from both set, \n",
    "but not the items that are present in both sets."
   ]
  },
  {
   "cell_type": "code",
   "execution_count": 71,
   "id": "896484fa",
   "metadata": {},
   "outputs": [
    {
     "data": {
      "text/plain": [
       "{9, 10}"
      ]
     },
     "execution_count": 71,
     "metadata": {},
     "output_type": "execute_result"
    }
   ],
   "source": [
    "set1={5,6,7,8,9}\n",
    "set2={5,6,7,8,10}\n",
    "set1.symmetric_difference(set2) #it removes the common element in both the sets and give the remaining elements in both the sets"
   ]
  },
  {
   "cell_type": "markdown",
   "id": "156c12b6",
   "metadata": {},
   "source": [
    "**symmetric_difference_update**\n",
    "\n",
    "The symmetric_difference_update() method updates the original set by removing items that are present in both sets, and inserting the other items."
   ]
  },
  {
   "cell_type": "code",
   "execution_count": 72,
   "id": "5d029c6a",
   "metadata": {},
   "outputs": [],
   "source": [
    "set1={5,6,7,8,9}\n",
    "set2={5,6,7,8,10}\n",
    "set1.symmetric_difference_update(set2)"
   ]
  },
  {
   "cell_type": "code",
   "execution_count": 73,
   "id": "a9c1cc2b",
   "metadata": {},
   "outputs": [
    {
     "data": {
      "text/plain": [
       "{9, 10}"
      ]
     },
     "execution_count": 73,
     "metadata": {},
     "output_type": "execute_result"
    }
   ],
   "source": [
    "set1"
   ]
  },
  {
   "cell_type": "markdown",
   "id": "b0e28a38",
   "metadata": {},
   "source": [
    "**UNION**\n",
    "\n",
    "The *union()* method returns a set that contains all items from the original set, and all items from the specified set(s).\n",
    "\n",
    "We can specify as many sets you want, separated by commas.\n",
    "\n",
    "It does not have to be a set, it can be any iterable object.\n",
    "\n",
    "If an item is present in more than one set, the result will contain only one appearance of this item."
   ]
  },
  {
   "cell_type": "code",
   "execution_count": 74,
   "id": "b0d71490",
   "metadata": {},
   "outputs": [
    {
     "name": "stdout",
     "output_type": "stream",
     "text": [
      "{'b', 'e', 'a', 'c', 'd', 'f'}\n"
     ]
    }
   ],
   "source": [
    "x = {\"a\", \"b\", \"c\"}\n",
    "y = {\"f\", \"d\", \"a\"}\n",
    "z = {\"c\", \"d\", \"e\"}\n",
    "\n",
    "result = x.union(y, z)\n",
    "\n",
    "print(result)"
   ]
  },
  {
   "cell_type": "markdown",
   "id": "c23c6a15",
   "metadata": {},
   "source": [
    "**UPDATE**\n",
    "\n",
    "The *update()* method updates the current set, by adding items from another set (or any other iterable).\n",
    "\n",
    "If an item is present in both sets, only one appearance of this item will be present in the updated set."
   ]
  },
  {
   "cell_type": "code",
   "execution_count": 75,
   "id": "4e295e82",
   "metadata": {},
   "outputs": [
    {
     "name": "stdout",
     "output_type": "stream",
     "text": [
      "{'google', 'banana', 'apple', 'cherry', 'microsoft'}\n"
     ]
    }
   ],
   "source": [
    "x = {\"apple\", \"banana\", \"cherry\"}\n",
    "y = {\"google\", \"microsoft\", \"apple\"}\n",
    "\n",
    "x.update(y)\n",
    "\n",
    "print(x)"
   ]
  },
  {
   "cell_type": "markdown",
   "id": "918618f5",
   "metadata": {},
   "source": [
    "### TUPLES"
   ]
  },
  {
   "cell_type": "markdown",
   "id": "9a608bf6",
   "metadata": {},
   "source": [
    "Tuples are used to store multiple items in a single variable.\n",
    "\n",
    "A tuple is a collection which is ordered and unchangeable.\n",
    "\n",
    "Tuples are written with round brackets.\n",
    "\n",
    "Tuple items are ordered, unchangeable, and allow duplicate values.\n",
    "\n",
    "Tuple items are indexed, the first item has index [0], the second item has index [1] etc."
   ]
  },
  {
   "cell_type": "code",
   "execution_count": 76,
   "id": "86e50478",
   "metadata": {},
   "outputs": [
    {
     "data": {
      "text/plain": [
       "(2, 2, 3, 4, 'a', 'b')"
      ]
     },
     "execution_count": 76,
     "metadata": {},
     "output_type": "execute_result"
    }
   ],
   "source": [
    "t=(2,2,3,4,'a','b')\n",
    "t"
   ]
  },
  {
   "cell_type": "code",
   "execution_count": 77,
   "id": "21b3846c",
   "metadata": {},
   "outputs": [
    {
     "data": {
      "text/plain": [
       "'a'"
      ]
     },
     "execution_count": 77,
     "metadata": {},
     "output_type": "execute_result"
    }
   ],
   "source": [
    "t[4] #5th element in t"
   ]
  },
  {
   "cell_type": "code",
   "execution_count": 78,
   "id": "7b603b2c",
   "metadata": {},
   "outputs": [
    {
     "data": {
      "text/plain": [
       "(2, 3, 4, 'a')"
      ]
     },
     "execution_count": 78,
     "metadata": {},
     "output_type": "execute_result"
    }
   ],
   "source": [
    "t[1:5] #from second element to 5th element"
   ]
  },
  {
   "cell_type": "code",
   "execution_count": 79,
   "id": "3e304b66",
   "metadata": {},
   "outputs": [
    {
     "data": {
      "text/plain": [
       "['__add__',\n",
       " '__class__',\n",
       " '__class_getitem__',\n",
       " '__contains__',\n",
       " '__delattr__',\n",
       " '__dir__',\n",
       " '__doc__',\n",
       " '__eq__',\n",
       " '__format__',\n",
       " '__ge__',\n",
       " '__getattribute__',\n",
       " '__getitem__',\n",
       " '__getnewargs__',\n",
       " '__gt__',\n",
       " '__hash__',\n",
       " '__init__',\n",
       " '__init_subclass__',\n",
       " '__iter__',\n",
       " '__le__',\n",
       " '__len__',\n",
       " '__lt__',\n",
       " '__mul__',\n",
       " '__ne__',\n",
       " '__new__',\n",
       " '__reduce__',\n",
       " '__reduce_ex__',\n",
       " '__repr__',\n",
       " '__rmul__',\n",
       " '__setattr__',\n",
       " '__sizeof__',\n",
       " '__str__',\n",
       " '__subclasshook__',\n",
       " 'count',\n",
       " 'index']"
      ]
     },
     "execution_count": 79,
     "metadata": {},
     "output_type": "execute_result"
    }
   ],
   "source": [
    "dir(t)"
   ]
  },
  {
   "cell_type": "markdown",
   "id": "475ece56",
   "metadata": {},
   "source": [
    "**COUNT**\n",
    "\n",
    "The *count()* method returns the number of times a specified value appears in the tuple."
   ]
  },
  {
   "cell_type": "code",
   "execution_count": 80,
   "id": "1e44766d",
   "metadata": {},
   "outputs": [
    {
     "data": {
      "text/plain": [
       "2"
      ]
     },
     "execution_count": 80,
     "metadata": {},
     "output_type": "execute_result"
    }
   ],
   "source": [
    "t.count(2)"
   ]
  },
  {
   "cell_type": "code",
   "execution_count": 81,
   "id": "a48ff481",
   "metadata": {},
   "outputs": [
    {
     "data": {
      "text/plain": [
       "1"
      ]
     },
     "execution_count": 81,
     "metadata": {},
     "output_type": "execute_result"
    }
   ],
   "source": [
    "t.count(3)"
   ]
  },
  {
   "cell_type": "markdown",
   "id": "271888fd",
   "metadata": {},
   "source": [
    "**INDEX**\n",
    "\n",
    "The *index()* method finds the first occurrence of the specified value.\n",
    "\n",
    "The *index()* method raises an exception if the value is not found."
   ]
  },
  {
   "cell_type": "code",
   "execution_count": 82,
   "id": "25c3e7c8",
   "metadata": {},
   "outputs": [
    {
     "data": {
      "text/plain": [
       "3"
      ]
     },
     "execution_count": 82,
     "metadata": {},
     "output_type": "execute_result"
    }
   ],
   "source": [
    "t.index(4) #to find the position of the element 4"
   ]
  },
  {
   "cell_type": "markdown",
   "id": "01a37670",
   "metadata": {},
   "source": [
    "### DICTIONARIES"
   ]
  },
  {
   "cell_type": "markdown",
   "id": "8bfea731",
   "metadata": {},
   "source": [
    "Dictionaries are used to store data values in key:value pairs.\n",
    "\n",
    "A dictionary is a collection which is ordered*, changeable and do not allow duplicates.\n",
    "\n",
    "Dictionaries are written with curly brackets, and have keys and values:\n",
    "    \n",
    "Dictionary items are ordered, changeable, and does not allow duplicates.\n",
    "\n",
    "Dictionary items are presented in key:value pairs, and can be referred to by using the key name."
   ]
  },
  {
   "cell_type": "code",
   "execution_count": 83,
   "id": "e3cf2142",
   "metadata": {},
   "outputs": [
    {
     "data": {
      "text/plain": [
       "{'key': 'value', 'name': 'desika', 'ug': 'maths', 'pg': 'stats'}"
      ]
     },
     "execution_count": 83,
     "metadata": {},
     "output_type": "execute_result"
    }
   ],
   "source": [
    "dt={\"key\":\"value\", \"name\":\"desika\", \"ug\":\"maths\", \"pg\":\"stats\"}\n",
    "dt"
   ]
  },
  {
   "cell_type": "code",
   "execution_count": 84,
   "id": "79752376",
   "metadata": {},
   "outputs": [
    {
     "data": {
      "text/plain": [
       "'value'"
      ]
     },
     "execution_count": 84,
     "metadata": {},
     "output_type": "execute_result"
    }
   ],
   "source": [
    "dt['key']"
   ]
  },
  {
   "cell_type": "code",
   "execution_count": 85,
   "id": "e948d82c",
   "metadata": {},
   "outputs": [
    {
     "data": {
      "text/plain": [
       "'stats'"
      ]
     },
     "execution_count": 85,
     "metadata": {},
     "output_type": "execute_result"
    }
   ],
   "source": [
    "dt[\"pg\"]"
   ]
  },
  {
   "cell_type": "code",
   "execution_count": 86,
   "id": "37aabb6d",
   "metadata": {},
   "outputs": [
    {
     "data": {
      "text/plain": [
       "['__class__',\n",
       " '__class_getitem__',\n",
       " '__contains__',\n",
       " '__delattr__',\n",
       " '__delitem__',\n",
       " '__dir__',\n",
       " '__doc__',\n",
       " '__eq__',\n",
       " '__format__',\n",
       " '__ge__',\n",
       " '__getattribute__',\n",
       " '__getitem__',\n",
       " '__gt__',\n",
       " '__hash__',\n",
       " '__init__',\n",
       " '__init_subclass__',\n",
       " '__ior__',\n",
       " '__iter__',\n",
       " '__le__',\n",
       " '__len__',\n",
       " '__lt__',\n",
       " '__ne__',\n",
       " '__new__',\n",
       " '__or__',\n",
       " '__reduce__',\n",
       " '__reduce_ex__',\n",
       " '__repr__',\n",
       " '__reversed__',\n",
       " '__ror__',\n",
       " '__setattr__',\n",
       " '__setitem__',\n",
       " '__sizeof__',\n",
       " '__str__',\n",
       " '__subclasshook__',\n",
       " 'clear',\n",
       " 'copy',\n",
       " 'fromkeys',\n",
       " 'get',\n",
       " 'items',\n",
       " 'keys',\n",
       " 'pop',\n",
       " 'popitem',\n",
       " 'setdefault',\n",
       " 'update',\n",
       " 'values']"
      ]
     },
     "execution_count": 86,
     "metadata": {},
     "output_type": "execute_result"
    }
   ],
   "source": [
    "dir(dt)"
   ]
  },
  {
   "cell_type": "markdown",
   "id": "8234103f",
   "metadata": {},
   "source": [
    "**CLEAR**\n",
    "\n",
    "The clear() method removes all the elements from a dictionary.\n",
    "\n"
   ]
  },
  {
   "cell_type": "code",
   "execution_count": 87,
   "id": "a4b45aa1",
   "metadata": {},
   "outputs": [
    {
     "name": "stdout",
     "output_type": "stream",
     "text": [
      "{}\n"
     ]
    }
   ],
   "source": [
    "car = {\n",
    "  \"brand\": \"Ford\",\n",
    "  \"model\": \"Mustang\",\n",
    "  \"year\": 1964\n",
    "}\n",
    "\n",
    "car.clear()\n",
    "\n",
    "print(car)"
   ]
  },
  {
   "cell_type": "markdown",
   "id": "926e7dc9",
   "metadata": {},
   "source": [
    "**COPY**\n",
    "\n",
    "The copy() method returns a copy of the specified dictionary."
   ]
  },
  {
   "cell_type": "code",
   "execution_count": 88,
   "id": "f03014c6",
   "metadata": {},
   "outputs": [
    {
     "data": {
      "text/plain": [
       "{'key': 'value', 'name': 'desika', 'ug': 'maths', 'pg': 'stats'}"
      ]
     },
     "execution_count": 88,
     "metadata": {},
     "output_type": "execute_result"
    }
   ],
   "source": [
    "dt={\"key\":\"value\", \"name\":\"desika\", \"ug\":\"maths\", \"pg\":\"stats\"}\n",
    "dt\n",
    "\n",
    "dct=dt.copy()\n",
    "dct"
   ]
  },
  {
   "cell_type": "markdown",
   "id": "8ac07be3",
   "metadata": {},
   "source": [
    "**FROMKEYS**\n",
    "\n",
    "The fromkeys() method returns a dictionary with the specified keys and the specified value."
   ]
  },
  {
   "cell_type": "code",
   "execution_count": 89,
   "id": "9cf1286b",
   "metadata": {},
   "outputs": [
    {
     "name": "stdout",
     "output_type": "stream",
     "text": [
      "{'key1': 0, 'key2': 0, 'key3': 0}\n"
     ]
    }
   ],
   "source": [
    "x = ('key1', 'key2', 'key3')\n",
    "y = 0\n",
    "\n",
    "thisdict = dict.fromkeys(x, y)\n",
    "\n",
    "print(thisdict)"
   ]
  },
  {
   "cell_type": "markdown",
   "id": "86cc5461",
   "metadata": {},
   "source": [
    "**GET**\n",
    "\n",
    "The get() method returns the value of the item with the specified key."
   ]
  },
  {
   "cell_type": "code",
   "execution_count": 90,
   "id": "81991072",
   "metadata": {},
   "outputs": [
    {
     "name": "stdout",
     "output_type": "stream",
     "text": [
      "Mustang\n"
     ]
    }
   ],
   "source": [
    "car = {\n",
    "  \"brand\": \"Ford\",\n",
    "  \"model\": \"Mustang\",\n",
    "  \"year\": 1964\n",
    "}\n",
    "\n",
    "x = car.get(\"model\")\n",
    "\n",
    "print(x)"
   ]
  },
  {
   "cell_type": "markdown",
   "id": "3801b911",
   "metadata": {},
   "source": [
    "**ITEMS**\n",
    "\n",
    "The items() method returns a view object. The view object contains the key-value pairs of the dictionary, as tuples in a list."
   ]
  },
  {
   "cell_type": "code",
   "execution_count": 91,
   "id": "4cb113b2",
   "metadata": {},
   "outputs": [
    {
     "data": {
      "text/plain": [
       "{'key': 'value', 'name': 'desika', 'ug': 'maths', 'pg': 'stats'}"
      ]
     },
     "execution_count": 91,
     "metadata": {},
     "output_type": "execute_result"
    }
   ],
   "source": [
    "dt"
   ]
  },
  {
   "cell_type": "code",
   "execution_count": 92,
   "id": "b0bd6eaf",
   "metadata": {},
   "outputs": [
    {
     "data": {
      "text/plain": [
       "dict_items([('key', 'value'), ('name', 'desika'), ('ug', 'maths'), ('pg', 'stats')])"
      ]
     },
     "execution_count": 92,
     "metadata": {},
     "output_type": "execute_result"
    }
   ],
   "source": [
    "dt.items()"
   ]
  },
  {
   "cell_type": "markdown",
   "id": "0f6b1c75",
   "metadata": {},
   "source": [
    "**KEYS**\n",
    "\n",
    "The keys() method returns a view object. The view object contains the keys of the dictionary, as a list.\n",
    "\n",
    "The view object will reflect any changes done to the dictionary, see example below."
   ]
  },
  {
   "cell_type": "code",
   "execution_count": 93,
   "id": "2aad94f6",
   "metadata": {},
   "outputs": [
    {
     "data": {
      "text/plain": [
       "dict_keys(['key', 'name', 'ug', 'pg'])"
      ]
     },
     "execution_count": 93,
     "metadata": {},
     "output_type": "execute_result"
    }
   ],
   "source": [
    "dt.keys()"
   ]
  },
  {
   "cell_type": "markdown",
   "id": "961d3f8d",
   "metadata": {},
   "source": [
    "**POP**\n",
    "\n",
    "The pop() method removes the specified item from the dictionary."
   ]
  },
  {
   "cell_type": "code",
   "execution_count": 94,
   "id": "53a3cc81",
   "metadata": {},
   "outputs": [
    {
     "data": {
      "text/plain": [
       "'desika'"
      ]
     },
     "execution_count": 94,
     "metadata": {},
     "output_type": "execute_result"
    }
   ],
   "source": [
    "dt.pop(\"name\")"
   ]
  },
  {
   "cell_type": "code",
   "execution_count": 95,
   "id": "76966ee8",
   "metadata": {},
   "outputs": [
    {
     "data": {
      "text/plain": [
       "{'key': 'value', 'ug': 'maths', 'pg': 'stats'}"
      ]
     },
     "execution_count": 95,
     "metadata": {},
     "output_type": "execute_result"
    }
   ],
   "source": [
    "dt"
   ]
  },
  {
   "cell_type": "markdown",
   "id": "a7845abd",
   "metadata": {},
   "source": [
    "**POPITEM**\n",
    "\n",
    "The popitem() method removes the item that was last inserted into the dictionary. "
   ]
  },
  {
   "cell_type": "code",
   "execution_count": 96,
   "id": "7c931a4b",
   "metadata": {},
   "outputs": [
    {
     "data": {
      "text/plain": [
       "('pg', 'stats')"
      ]
     },
     "execution_count": 96,
     "metadata": {},
     "output_type": "execute_result"
    }
   ],
   "source": [
    "dt.popitem()"
   ]
  },
  {
   "cell_type": "code",
   "execution_count": 97,
   "id": "09740872",
   "metadata": {},
   "outputs": [
    {
     "data": {
      "text/plain": [
       "{'key': 'value', 'ug': 'maths'}"
      ]
     },
     "execution_count": 97,
     "metadata": {},
     "output_type": "execute_result"
    }
   ],
   "source": [
    "dt"
   ]
  },
  {
   "cell_type": "markdown",
   "id": "66ff0d5e",
   "metadata": {},
   "source": [
    "**SETDEFAULT**\n",
    "\n",
    "\n",
    "The setdefault() method returns the value of the item with the specified key."
   ]
  },
  {
   "cell_type": "code",
   "execution_count": 98,
   "id": "72915c0f",
   "metadata": {},
   "outputs": [
    {
     "name": "stdout",
     "output_type": "stream",
     "text": [
      "Mustang\n"
     ]
    }
   ],
   "source": [
    "car = {\n",
    "  \"brand\": \"Ford\",\n",
    "  \"model\": \"Mustang\",\n",
    "  \"year\": 1964\n",
    "}\n",
    "\n",
    "x = car.setdefault(\"model\", \"Bronco\")\n",
    "\n",
    "print(x)"
   ]
  },
  {
   "cell_type": "code",
   "execution_count": 99,
   "id": "0525a5de",
   "metadata": {},
   "outputs": [
    {
     "data": {
      "text/plain": [
       "{'brand': 'Ford', 'model': 'Mustang', 'year': 1964}"
      ]
     },
     "execution_count": 99,
     "metadata": {},
     "output_type": "execute_result"
    }
   ],
   "source": [
    "car"
   ]
  },
  {
   "cell_type": "code",
   "execution_count": 100,
   "id": "84b6699e",
   "metadata": {},
   "outputs": [
    {
     "data": {
      "text/plain": [
       "'Mustang'"
      ]
     },
     "execution_count": 100,
     "metadata": {},
     "output_type": "execute_result"
    }
   ],
   "source": [
    "x"
   ]
  },
  {
   "cell_type": "markdown",
   "id": "422d493e",
   "metadata": {},
   "source": [
    "If the key does not exist, insert the key, with the specified value, see example below"
   ]
  },
  {
   "cell_type": "code",
   "execution_count": 101,
   "id": "cb5b875f",
   "metadata": {},
   "outputs": [
    {
     "name": "stdout",
     "output_type": "stream",
     "text": [
      "white\n"
     ]
    }
   ],
   "source": [
    "car = {\n",
    "  \"brand\": \"Ford\",\n",
    "  \"model\": \"Mustang\",\n",
    "  \"year\": 1964\n",
    "}\n",
    "\n",
    "x = car.setdefault(\"color\", \"white\")\n",
    "\n",
    "print(x)"
   ]
  },
  {
   "cell_type": "markdown",
   "id": "e7ae7930",
   "metadata": {},
   "source": [
    "**UPDATE**\n",
    "\n",
    "The update() method inserts the specified items to the dictionary.\n",
    "\n",
    "The specified items can be a dictionary, or an iterable object with key value pairs."
   ]
  },
  {
   "cell_type": "code",
   "execution_count": 102,
   "id": "66b59861",
   "metadata": {},
   "outputs": [
    {
     "name": "stdout",
     "output_type": "stream",
     "text": [
      "{'brand': 'Ford', 'model': 'Mustang', 'year': 1964, 'color': 'White'}\n"
     ]
    }
   ],
   "source": [
    "car = {\n",
    "  \"brand\": \"Ford\",\n",
    "  \"model\": \"Mustang\",\n",
    "  \"year\": 1964\n",
    "}\n",
    "\n",
    "car.update({\"color\": \"White\"})\n",
    "\n",
    "print(car)"
   ]
  },
  {
   "cell_type": "markdown",
   "id": "19605b1a",
   "metadata": {},
   "source": [
    "**VALUE**\n",
    "\n",
    "The values() method returns a view object. The view object contains the values of the dictionary, as a list."
   ]
  },
  {
   "cell_type": "code",
   "execution_count": 103,
   "id": "b9b6028e",
   "metadata": {},
   "outputs": [
    {
     "name": "stdout",
     "output_type": "stream",
     "text": [
      "dict_values(['Ford', 'Mustang', 1964])\n"
     ]
    }
   ],
   "source": [
    "car = {\n",
    "  \"brand\": \"Ford\",\n",
    "  \"model\": \"Mustang\",\n",
    "  \"year\": 1964\n",
    "}\n",
    "\n",
    "x = car.values()\n",
    "\n",
    "print(x)"
   ]
  },
  {
   "cell_type": "code",
   "execution_count": 104,
   "id": "12da669d",
   "metadata": {},
   "outputs": [
    {
     "ename": "SyntaxError",
     "evalue": "invalid syntax (2183468721.py, line 1)",
     "output_type": "error",
     "traceback": [
      "\u001b[1;36m  Input \u001b[1;32mIn [104]\u001b[1;36m\u001b[0m\n\u001b[1;33m    The view object will reflect any changes done to the dictionary, see example below.\u001b[0m\n\u001b[1;37m        ^\u001b[0m\n\u001b[1;31mSyntaxError\u001b[0m\u001b[1;31m:\u001b[0m invalid syntax\n"
     ]
    }
   ],
   "source": [
    "The view object will reflect any changes done to the dictionary, see example below."
   ]
  },
  {
   "cell_type": "code",
   "execution_count": 105,
   "id": "e3be63e5",
   "metadata": {},
   "outputs": [
    {
     "name": "stdout",
     "output_type": "stream",
     "text": [
      "dict_values(['Ford', 'Mustang', 2018])\n"
     ]
    }
   ],
   "source": [
    "car = {\n",
    "  \"brand\": \"Ford\",\n",
    "  \"model\": \"Mustang\",\n",
    "  \"year\": 1964\n",
    "}\n",
    "\n",
    "x = car.values()\n",
    "\n",
    "car[\"year\"] = 2018\n",
    "\n",
    "print(x)"
   ]
  },
  {
   "cell_type": "markdown",
   "id": "0439ec9a",
   "metadata": {},
   "source": [
    "# *THANK YOU!*"
   ]
  },
  {
   "cell_type": "code",
   "execution_count": null,
   "id": "f9ed0b9d",
   "metadata": {},
   "outputs": [],
   "source": []
  },
  {
   "cell_type": "code",
   "execution_count": null,
   "id": "24f5c3e1",
   "metadata": {},
   "outputs": [],
   "source": []
  }
 ],
 "metadata": {
  "kernelspec": {
   "display_name": "Python 3 (ipykernel)",
   "language": "python",
   "name": "python3"
  },
  "language_info": {
   "codemirror_mode": {
    "name": "ipython",
    "version": 3
   },
   "file_extension": ".py",
   "mimetype": "text/x-python",
   "name": "python",
   "nbconvert_exporter": "python",
   "pygments_lexer": "ipython3",
   "version": "3.9.12"
  }
 },
 "nbformat": 4,
 "nbformat_minor": 5
}
