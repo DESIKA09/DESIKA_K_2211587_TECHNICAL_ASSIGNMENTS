{
 "cells": [
  {
   "cell_type": "code",
   "execution_count": 29,
   "id": "216431cc",
   "metadata": {},
   "outputs": [],
   "source": [
    "\n",
    "# If given number is greater than 1\n",
    "def check_prime():\n",
    "    num = int(input(\"enter a number= \"))\n",
    "        \n",
    "    for i in range(2, int(num/2)+1):\n",
    "            \n",
    "        \n",
    "        if (num % i) == 0:\n",
    "                \n",
    "            print(num, \"is not a prime number\")\n",
    "                \n",
    "            break\n",
    "                \n",
    "        else:\n",
    "                \n",
    "                print(num, \"is a prime number\")\n"
   ]
  },
  {
   "cell_type": "code",
   "execution_count": 30,
   "id": "a1c3a21a",
   "metadata": {},
   "outputs": [
    {
     "name": "stdout",
     "output_type": "stream",
     "text": [
      "enter a number= 9\n",
      "9 is a prime number\n",
      "9 is not a prime number\n"
     ]
    }
   ],
   "source": [
    "check_prime()"
   ]
  },
  {
   "cell_type": "code",
   "execution_count": null,
   "id": "394d09a6",
   "metadata": {},
   "outputs": [],
   "source": []
  },
  {
   "cell_type": "code",
   "execution_count": null,
   "id": "966d51fa",
   "metadata": {},
   "outputs": [],
   "source": [
    "\n"
   ]
  }
 ],
 "metadata": {
  "kernelspec": {
   "display_name": "Python 3 (ipykernel)",
   "language": "python",
   "name": "python3"
  },
  "language_info": {
   "codemirror_mode": {
    "name": "ipython",
    "version": 3
   },
   "file_extension": ".py",
   "mimetype": "text/x-python",
   "name": "python",
   "nbconvert_exporter": "python",
   "pygments_lexer": "ipython3",
   "version": "3.9.12"
  }
 },
 "nbformat": 4,
 "nbformat_minor": 5
}
