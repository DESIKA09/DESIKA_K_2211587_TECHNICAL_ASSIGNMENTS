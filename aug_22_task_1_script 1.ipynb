{
 "cells": [
  {
   "cell_type": "code",
   "execution_count": 1,
   "id": "fc8a84bd",
   "metadata": {},
   "outputs": [
    {
     "name": "stdout",
     "output_type": "stream",
     "text": [
      "Overwriting prime1.py\n"
     ]
    }
   ],
   "source": [
    "%%writefile prime1.py\n",
    "def prime(x):\n",
    "    prime_list = []\n",
    "    for i in range(0,x):\n",
    "        if i == 0 or i == 1:\n",
    "            continue\n",
    "        else:\n",
    "            for j in range(2, int(i/2)+1):\n",
    "                if i % j == 0:\n",
    "                    break\n",
    "            else:\n",
    "                prime_list.append(i)\n",
    "    return prime_list"
   ]
  },
  {
   "cell_type": "code",
   "execution_count": 2,
   "id": "ab8d8430",
   "metadata": {},
   "outputs": [
    {
     "name": "stdout",
     "output_type": "stream",
     "text": [
      "Appending to prime1.py\n"
     ]
    }
   ],
   "source": [
    "%%writefile -a prime1.py\n",
    "prime(10)"
   ]
  },
  {
   "cell_type": "code",
   "execution_count": 3,
   "id": "f5307a2a",
   "metadata": {},
   "outputs": [],
   "source": [
    "def prime(x):\n",
    "    prime_list = []\n",
    "    for i in range(0,x):\n",
    "        if i == 0 or i == 1:\n",
    "            continue\n",
    "        else:\n",
    "            for j in range(2, int(i/2)+1):\n",
    "                if i % j == 0:\n",
    "                    break\n",
    "            else:\n",
    "                prime_list.append(i)\n",
    "    return prime_list"
   ]
  },
  {
   "cell_type": "code",
   "execution_count": 4,
   "id": "4e871ae6",
   "metadata": {},
   "outputs": [
    {
     "data": {
      "text/plain": [
       "[2, 3, 5, 7]"
      ]
     },
     "execution_count": 4,
     "metadata": {},
     "output_type": "execute_result"
    }
   ],
   "source": [
    "prime(10)"
   ]
  },
  {
   "cell_type": "code",
   "execution_count": null,
   "id": "8a5d1823",
   "metadata": {},
   "outputs": [],
   "source": []
  }
 ],
 "metadata": {
  "kernelspec": {
   "display_name": "Python 3 (ipykernel)",
   "language": "python",
   "name": "python3"
  },
  "language_info": {
   "codemirror_mode": {
    "name": "ipython",
    "version": 3
   },
   "file_extension": ".py",
   "mimetype": "text/x-python",
   "name": "python",
   "nbconvert_exporter": "python",
   "pygments_lexer": "ipython3",
   "version": "3.9.12"
  }
 },
 "nbformat": 4,
 "nbformat_minor": 5
}
