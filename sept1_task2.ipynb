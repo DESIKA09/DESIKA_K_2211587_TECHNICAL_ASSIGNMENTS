{
 "cells": [
  {
   "cell_type": "markdown",
   "id": "df4b958d",
   "metadata": {},
   "source": [
    "Step 1. Import the necessary libraries"
   ]
  },
  {
   "cell_type": "code",
   "execution_count": null,
   "id": "d4187225",
   "metadata": {},
   "outputs": [],
   "source": [
    "import pandas as pd\n",
    "import numpy as np"
   ]
  },
  {
   "cell_type": "code",
   "execution_count": null,
   "id": "5ce56ea2",
   "metadata": {},
   "outputs": [],
   "source": [
    "df=pd.read_csv(\"https://raw.githubusercontent.com/a-forty-two/CDB22DW022/main/US_Crime_Rates_1960_2014.csv\")"
   ]
  },
  {
   "cell_type": "code",
   "execution_count": null,
   "id": "61b390a5",
   "metadata": {},
   "outputs": [],
   "source": [
    "df.head()"
   ]
  },
  {
   "cell_type": "code",
   "execution_count": null,
   "id": "5bf09c36",
   "metadata": {},
   "outputs": [],
   "source": [
    "crime=df"
   ]
  },
  {
   "cell_type": "code",
   "execution_count": null,
   "id": "4fe11ef4",
   "metadata": {},
   "outputs": [],
   "source": [
    "crime.head()"
   ]
  },
  {
   "cell_type": "code",
   "execution_count": null,
   "id": "690d0374",
   "metadata": {},
   "outputs": [],
   "source": [
    "crime.info()"
   ]
  },
  {
   "cell_type": "code",
   "execution_count": null,
   "id": "cbe179b8",
   "metadata": {},
   "outputs": [],
   "source": [
    "crime[\"Year\"]=pd.to_datetime(crime[\"Year\"])"
   ]
  },
  {
   "cell_type": "code",
   "execution_count": null,
   "id": "a65b952c",
   "metadata": {},
   "outputs": [],
   "source": [
    "crime.head()"
   ]
  },
  {
   "cell_type": "code",
   "execution_count": null,
   "id": "2ab8c9b6",
   "metadata": {},
   "outputs": [],
   "source": [
    "crime.dtypes"
   ]
  },
  {
   "cell_type": "code",
   "execution_count": null,
   "id": "e9c7dff4",
   "metadata": {},
   "outputs": [],
   "source": [
    "crime.set_index('Year')"
   ]
  },
  {
   "cell_type": "code",
   "execution_count": null,
   "id": "95cf1178",
   "metadata": {},
   "outputs": [],
   "source": [
    "crime.drop('Total',axis=1)"
   ]
  },
  {
   "cell_type": "code",
   "execution_count": null,
   "id": "f3ee2af5",
   "metadata": {},
   "outputs": [],
   "source": [
    "crime.groupby((crime.index//10)*10).sum()\n"
   ]
  },
  {
   "cell_type": "code",
   "execution_count": null,
   "id": "6aa53abc",
   "metadata": {},
   "outputs": [],
   "source": [
    "crime.groupby((crime.index//10)*10).sum().max()"
   ]
  },
  {
   "cell_type": "code",
   "execution_count": null,
   "id": "0824ea4b",
   "metadata": {},
   "outputs": [],
   "source": []
  }
 ],
 "metadata": {
  "kernelspec": {
   "display_name": "Python 3 (ipykernel)",
   "language": "python",
   "name": "python3"
  },
  "language_info": {
   "codemirror_mode": {
    "name": "ipython",
    "version": 3
   },
   "file_extension": ".py",
   "mimetype": "text/x-python",
   "name": "python",
   "nbconvert_exporter": "python",
   "pygments_lexer": "ipython3",
   "version": "3.9.12"
  }
 },
 "nbformat": 4,
 "nbformat_minor": 5
}
