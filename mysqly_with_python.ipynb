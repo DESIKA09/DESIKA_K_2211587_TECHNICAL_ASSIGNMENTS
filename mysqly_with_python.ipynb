{
 "cells": [
  {
   "cell_type": "code",
   "execution_count": 1,
   "id": "d0615c81",
   "metadata": {},
   "outputs": [],
   "source": [
    "import mysql.connector\n"
   ]
  },
  {
   "cell_type": "code",
   "execution_count": 2,
   "id": "b67f97e5",
   "metadata": {},
   "outputs": [],
   "source": [
    "mydb = mysql.connector.connect(\n",
    "host = \"localhost\",\n",
    "user = \"root\",\n",
    "password = \"SD@0909desi\")"
   ]
  },
  {
   "cell_type": "code",
   "execution_count": 3,
   "id": "26bc0755",
   "metadata": {},
   "outputs": [],
   "source": [
    "mycursor = mydb.cursor()\n",
    "mycursor.execute(\"SHOW DATABASES\")"
   ]
  },
  {
   "cell_type": "code",
   "execution_count": 4,
   "id": "4afa4744",
   "metadata": {},
   "outputs": [
    {
     "name": "stdout",
     "output_type": "stream",
     "text": [
      "('desika_2211587',)\n",
      "('dvdrental',)\n",
      "('flight_management_system',)\n",
      "('information_schema',)\n",
      "('mysql',)\n",
      "('performance_schema',)\n",
      "('sys',)\n",
      "('testdb',)\n",
      "('trialone',)\n",
      "('world',)\n"
     ]
    }
   ],
   "source": [
    "for i in mycursor:\n",
    "    print(i)"
   ]
  },
  {
   "cell_type": "code",
   "execution_count": 5,
   "id": "9f970632",
   "metadata": {},
   "outputs": [],
   "source": [
    "mydb = mysql.connector.connect(\n",
    "host = \"localhost\",\n",
    "user = \"root\",\n",
    "password = \"SD@0909desi\",\n",
    "database=\"testdb\")"
   ]
  },
  {
   "cell_type": "code",
   "execution_count": 7,
   "id": "090caaa6",
   "metadata": {},
   "outputs": [],
   "source": [
    "\n",
    "#creating table\n",
    "mycursor = mydb.cursor()\n",
    "mycursor.execute(\"CREATE TABLE actorinfo (name VARCHAR(255),age INT(3), address VARCHAR(500))\")\n"
   ]
  },
  {
   "cell_type": "code",
   "execution_count": 8,
   "id": "a3eae720",
   "metadata": {},
   "outputs": [],
   "source": [
    "for i in mycursor:\n",
    "    print(i)"
   ]
  },
  {
   "cell_type": "code",
   "execution_count": 9,
   "id": "2ca122cd",
   "metadata": {},
   "outputs": [
    {
     "name": "stdout",
     "output_type": "stream",
     "text": [
      "('actorinfo',)\n",
      "('employeeinfo',)\n"
     ]
    }
   ],
   "source": [
    "mycursor.execute(\"SHOW TABLES\")\n",
    "for i in mycursor:\n",
    "    print(i)"
   ]
  },
  {
   "cell_type": "code",
   "execution_count": 22,
   "id": "6aedb153",
   "metadata": {
    "scrolled": true
   },
   "outputs": [],
   "source": [
    "mycursor.execute(\"CREATE TABLE student_profile (id int(3),name varchar(255), age int(3))\")"
   ]
  },
  {
   "cell_type": "code",
   "execution_count": 23,
   "id": "3c0c45d0",
   "metadata": {},
   "outputs": [],
   "source": [
    "for i in mycursor:\n",
    "    print(i)"
   ]
  },
  {
   "cell_type": "code",
   "execution_count": 24,
   "id": "f452dcca",
   "metadata": {},
   "outputs": [
    {
     "name": "stdout",
     "output_type": "stream",
     "text": [
      "('actorinfo',)\n",
      "('employeeinfo',)\n",
      "('student',)\n",
      "('student_profile',)\n",
      "('studentinfo',)\n"
     ]
    }
   ],
   "source": [
    "mycursor.execute(\"SHOW TABLES\")\n",
    "for i in mycursor:\n",
    "    print(i)"
   ]
  },
  {
   "cell_type": "code",
   "execution_count": 25,
   "id": "4fa30e3e",
   "metadata": {
    "scrolled": true
   },
   "outputs": [],
   "source": [
    "mycursor.execute(\"insert into student_profile values(1,'Sorit',80),(2,'Kumar',89),(3,'Susmita',90)\")"
   ]
  },
  {
   "cell_type": "code",
   "execution_count": 27,
   "id": "9e7c0acb",
   "metadata": {},
   "outputs": [],
   "source": [
    "#reading the table\n",
    "mycursor.execute(\"select*from student_profile\")"
   ]
  },
  {
   "cell_type": "code",
   "execution_count": 28,
   "id": "04aca733",
   "metadata": {},
   "outputs": [
    {
     "name": "stdout",
     "output_type": "stream",
     "text": [
      "(1, 'Sorit', 80)\n",
      "(2, 'Kumar', 89)\n",
      "(3, 'Susmita', 90)\n"
     ]
    }
   ],
   "source": [
    "for i in mycursor:\n",
    "    print(i)"
   ]
  },
  {
   "cell_type": "code",
   "execution_count": 29,
   "id": "3eb9763e",
   "metadata": {},
   "outputs": [],
   "source": [
    "#updating the table\n",
    "mycursor.execute(\"UPDATE student_profile SET name='desika' WHERE id=1\")"
   ]
  },
  {
   "cell_type": "code",
   "execution_count": 30,
   "id": "3038224d",
   "metadata": {},
   "outputs": [],
   "source": [
    "mycursor.execute(\"select*from student_profile\")"
   ]
  },
  {
   "cell_type": "code",
   "execution_count": 31,
   "id": "bcb5b903",
   "metadata": {},
   "outputs": [
    {
     "name": "stdout",
     "output_type": "stream",
     "text": [
      "(1, 'desika', 80)\n",
      "(2, 'Kumar', 89)\n",
      "(3, 'Susmita', 90)\n"
     ]
    }
   ],
   "source": [
    "for i in mycursor:\n",
    "    print(i)"
   ]
  },
  {
   "cell_type": "code",
   "execution_count": 32,
   "id": "560fe0ec",
   "metadata": {},
   "outputs": [],
   "source": [
    "#deleting table\n",
    "mycursor = mydb.cursor()\n",
    "mycursor.execute(\"DROP TABLE student_profile\")"
   ]
  },
  {
   "cell_type": "code",
   "execution_count": 33,
   "id": "d24c2aac",
   "metadata": {},
   "outputs": [],
   "source": [
    "mycursor = mydb.cursor()\n",
    "mycursor.execute(\"SHOW TABLES\")"
   ]
  },
  {
   "cell_type": "code",
   "execution_count": 34,
   "id": "3c94eb85",
   "metadata": {},
   "outputs": [
    {
     "name": "stdout",
     "output_type": "stream",
     "text": [
      "('actorinfo',)\n",
      "('employeeinfo',)\n",
      "('student',)\n",
      "('studentinfo',)\n"
     ]
    }
   ],
   "source": [
    "for i in mycursor:\n",
    "    print(i)"
   ]
  },
  {
   "cell_type": "code",
   "execution_count": 35,
   "id": "619b72d9",
   "metadata": {},
   "outputs": [
    {
     "data": {
      "text/plain": [
       "'C:\\\\Users\\\\2211587'"
      ]
     },
     "execution_count": 35,
     "metadata": {},
     "output_type": "execute_result"
    }
   ],
   "source": [
    "pwd"
   ]
  },
  {
   "cell_type": "code",
   "execution_count": null,
   "id": "516ea1fd",
   "metadata": {},
   "outputs": [],
   "source": []
  }
 ],
 "metadata": {
  "kernelspec": {
   "display_name": "Python 3 (ipykernel)",
   "language": "python",
   "name": "python3"
  },
  "language_info": {
   "codemirror_mode": {
    "name": "ipython",
    "version": 3
   },
   "file_extension": ".py",
   "mimetype": "text/x-python",
   "name": "python",
   "nbconvert_exporter": "python",
   "pygments_lexer": "ipython3",
   "version": "3.9.12"
  }
 },
 "nbformat": 4,
 "nbformat_minor": 5
}
