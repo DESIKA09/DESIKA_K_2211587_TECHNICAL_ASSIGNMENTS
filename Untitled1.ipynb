{
 "cells": [
  {
   "cell_type": "markdown",
   "id": "56559e7b",
   "metadata": {},
   "source": [
    "#list#\n",
    "ordered and indexed\n",
    "\n",
    "\n",
    "#set#\n",
    "unordered unindexed\n",
    "set collects unique elements\n",
    "false is equal to 0\n",
    "\n",
    "#tuple#\n",
    "ordered and indexed\n",
    "immutable\n",
    "\n",
    "#dictionaries#\n",
    "set with index\n",
    "key and value\n",
    "key is index\n",
    "value is elements\n",
    "keys and values can be of any data type\n",
    "\n"
   ]
  },
  {
   "cell_type": "code",
   "execution_count": 1,
   "id": "4b7eb85c",
   "metadata": {},
   "outputs": [],
   "source": [
    "set={1,2,3,0,False}"
   ]
  },
  {
   "cell_type": "code",
   "execution_count": 2,
   "id": "7f2bcb45",
   "metadata": {},
   "outputs": [
    {
     "data": {
      "text/plain": [
       "{0, 1, 2, 3}"
      ]
     },
     "execution_count": 2,
     "metadata": {},
     "output_type": "execute_result"
    }
   ],
   "source": [
    "set"
   ]
  },
  {
   "cell_type": "code",
   "execution_count": 7,
   "id": "f99195f5",
   "metadata": {},
   "outputs": [
    {
     "ename": "TypeError",
     "evalue": "'set' object is not subscriptable",
     "output_type": "error",
     "traceback": [
      "\u001b[1;31m---------------------------------------------------------------------------\u001b[0m",
      "\u001b[1;31mTypeError\u001b[0m                                 Traceback (most recent call last)",
      "Input \u001b[1;32mIn [7]\u001b[0m, in \u001b[0;36m<cell line: 1>\u001b[1;34m()\u001b[0m\n\u001b[1;32m----> 1\u001b[0m \u001b[38;5;28;43mset\u001b[39;49m\u001b[43m[\u001b[49m\u001b[38;5;241;43m0\u001b[39;49m\u001b[43m]\u001b[49m\n",
      "\u001b[1;31mTypeError\u001b[0m: 'set' object is not subscriptable"
     ]
    }
   ],
   "source": [
    "set[0]"
   ]
  },
  {
   "cell_type": "code",
   "execution_count": 3,
   "id": "4f553bb8",
   "metadata": {},
   "outputs": [
    {
     "data": {
      "text/plain": [
       "{'key': 'value', 'desika': 'sandia', 'mu': 'stats'}"
      ]
     },
     "execution_count": 3,
     "metadata": {},
     "output_type": "execute_result"
    }
   ],
   "source": [
    "dict={\"key\":\"value\",\"desika\":\"sandia\",\"mu\":\"stats\"}\n",
    "dict"
   ]
  },
  {
   "cell_type": "code",
   "execution_count": 10,
   "id": "cafe0282",
   "metadata": {},
   "outputs": [
    {
     "data": {
      "text/plain": [
       "'sandia'"
      ]
     },
     "execution_count": 10,
     "metadata": {},
     "output_type": "execute_result"
    }
   ],
   "source": [
    "dict[\"desika\"]"
   ]
  },
  {
   "cell_type": "code",
   "execution_count": 6,
   "id": "49ac0d82",
   "metadata": {},
   "outputs": [
    {
     "name": "stdout",
     "output_type": "stream",
     "text": [
      "key=  key  ,value=  value\n",
      "key=  desika  ,value=  sandia\n",
      "key=  mu  ,value=  stats\n"
     ]
    }
   ],
   "source": [
    "for key,value in dict.items():\n",
    "    print(\"key= \",key,\" ,value= \",value)\n",
    "    "
   ]
  },
  {
   "cell_type": "code",
   "execution_count": null,
   "id": "7aa148fb",
   "metadata": {},
   "outputs": [],
   "source": []
  }
 ],
 "metadata": {
  "kernelspec": {
   "display_name": "Python 3 (ipykernel)",
   "language": "python",
   "name": "python3"
  },
  "language_info": {
   "codemirror_mode": {
    "name": "ipython",
    "version": 3
   },
   "file_extension": ".py",
   "mimetype": "text/x-python",
   "name": "python",
   "nbconvert_exporter": "python",
   "pygments_lexer": "ipython3",
   "version": "3.9.12"
  }
 },
 "nbformat": 4,
 "nbformat_minor": 5
}
