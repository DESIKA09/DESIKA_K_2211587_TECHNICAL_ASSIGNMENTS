{
 "cells": [
  {
   "cell_type": "code",
   "execution_count": 14,
   "id": "936fb1fa",
   "metadata": {},
   "outputs": [],
   "source": [
    "def count_words(dic):\n",
    "    text=input(\"enter a list of words: \")\n",
    "    dic = dict()\n",
    "    for w in text.split():\n",
    "        if w in dic.keys():\n",
    "            dic[w] = dic[w]+1\n",
    "        else:\n",
    "            dic[w] = 1\n",
    "\n",
    "    return dic"
   ]
  },
  {
   "cell_type": "code",
   "execution_count": 10,
   "id": "b5a90a6f",
   "metadata": {},
   "outputs": [
    {
     "name": "stdout",
     "output_type": "stream",
     "text": [
      "enter a list of words: Hi this is desika \n"
     ]
    },
    {
     "data": {
      "text/plain": [
       "{'Hi': 1, 'this': 1, 'is': 1, 'desika': 1}"
      ]
     },
     "execution_count": 10,
     "metadata": {},
     "output_type": "execute_result"
    }
   ],
   "source": [
    "count_words(dic)"
   ]
  },
  {
   "cell_type": "code",
   "execution_count": 15,
   "id": "548a05df",
   "metadata": {},
   "outputs": [
    {
     "name": "stdout",
     "output_type": "stream",
     "text": [
      "enter a list of words: hi hi hello \n"
     ]
    },
    {
     "data": {
      "text/plain": [
       "{'hi': 2, 'hello': 1}"
      ]
     },
     "execution_count": 15,
     "metadata": {},
     "output_type": "execute_result"
    }
   ],
   "source": [
    "count_words(dic)"
   ]
  },
  {
   "cell_type": "code",
   "execution_count": 16,
   "id": "86e51509",
   "metadata": {},
   "outputs": [
    {
     "name": "stdout",
     "output_type": "stream",
     "text": [
      "enter a list of words: how are you? are you ok?\n"
     ]
    },
    {
     "data": {
      "text/plain": [
       "{'how': 1, 'are': 2, 'you?': 1, 'you': 1, 'ok?': 1}"
      ]
     },
     "execution_count": 16,
     "metadata": {},
     "output_type": "execute_result"
    }
   ],
   "source": [
    "count_words(dic)"
   ]
  },
  {
   "cell_type": "code",
   "execution_count": 17,
   "id": "d9d47caa",
   "metadata": {},
   "outputs": [
    {
     "data": {
      "text/plain": [
       "'C:\\\\Users\\\\2211587\\\\OneDrive - Cognizant\\\\Desktop\\\\python bootcamp'"
      ]
     },
     "execution_count": 17,
     "metadata": {},
     "output_type": "execute_result"
    }
   ],
   "source": [
    "pwd"
   ]
  },
  {
   "cell_type": "code",
   "execution_count": null,
   "id": "8b5dc75e",
   "metadata": {},
   "outputs": [],
   "source": []
  }
 ],
 "metadata": {
  "kernelspec": {
   "display_name": "Python 3 (ipykernel)",
   "language": "python",
   "name": "python3"
  },
  "language_info": {
   "codemirror_mode": {
    "name": "ipython",
    "version": 3
   },
   "file_extension": ".py",
   "mimetype": "text/x-python",
   "name": "python",
   "nbconvert_exporter": "python",
   "pygments_lexer": "ipython3",
   "version": "3.9.12"
  }
 },
 "nbformat": 4,
 "nbformat_minor": 5
}
